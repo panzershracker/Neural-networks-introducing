{
  "nbformat": 4,
  "nbformat_minor": 0,
  "metadata": {
    "colab": {
      "name": "NN Intro Project.ipynb",
      "provenance": [],
      "collapsed_sections": [],
      "mount_file_id": "18Nhyz00yRh2Q8sqxQFcFFuf7ulTUQ635",
      "authorship_tag": "ABX9TyPk23iEzUbLLiM6J8DePpyC",
      "include_colab_link": true
    },
    "kernelspec": {
      "name": "python3",
      "display_name": "Python 3"
    }
  },
  "cells": [
    {
      "cell_type": "markdown",
      "metadata": {
        "id": "view-in-github",
        "colab_type": "text"
      },
      "source": [
        "<a href=\"https://colab.research.google.com/github/panzershracker/Neural-networks-introducing/blob/master/NN_Intro_Project.ipynb\" target=\"_parent\"><img src=\"https://colab.research.google.com/assets/colab-badge.svg\" alt=\"Open In Colab\"/></a>"
      ]
    },
    {
      "cell_type": "code",
      "metadata": {
        "id": "82Ca0_W3GMkr",
        "colab_type": "code",
        "outputId": "a65bdb27-cf8d-4a15-e563-c9b8b87772d3",
        "colab": {
          "base_uri": "https://localhost:8080/",
          "height": 70
        }
      },
      "source": [
        "import pandas as pd\n",
        "import numpy as np\n",
        "import seaborn as sns\n",
        "from google.colab import drive\n",
        "from matplotlib import pyplot as plt\n",
        "from pylab import rcParams\n",
        "\n",
        "from sklearn.model_selection import train_test_split\n",
        "from sklearn.metrics import classification_report, f1_score\n",
        "from sklearn.preprocessing import MinMaxScaler\n",
        "import textwrap\n",
        "\n",
        "import warnings\n",
        "\n",
        "warnings.simplefilter('ignore')"
      ],
      "execution_count": 0,
      "outputs": [
        {
          "output_type": "stream",
          "text": [
            "/usr/local/lib/python3.6/dist-packages/statsmodels/tools/_testing.py:19: FutureWarning: pandas.util.testing is deprecated. Use the functions in the public API at pandas.testing instead.\n",
            "  import pandas.util.testing as tm\n"
          ],
          "name": "stderr"
        }
      ]
    },
    {
      "cell_type": "code",
      "metadata": {
        "id": "rxCXsXhoGrb-",
        "colab_type": "code",
        "outputId": "dd981740-2d92-47da-ba3a-064a902d3351",
        "colab": {
          "base_uri": "https://localhost:8080/",
          "height": 33
        }
      },
      "source": [
        "drive.mount('/content/drive')"
      ],
      "execution_count": 0,
      "outputs": [
        {
          "output_type": "stream",
          "text": [
            "Drive already mounted at /content/drive; to attempt to forcibly remount, call drive.mount(\"/content/drive\", force_remount=True).\n"
          ],
          "name": "stdout"
        }
      ]
    },
    {
      "cell_type": "code",
      "metadata": {
        "id": "7Hy-7FTIG9j1",
        "colab_type": "code",
        "colab": {}
      },
      "source": [
        "df_train = pd.read_csv('/content/drive/My Drive/Введение в нейронные сети/Курсовой проект/train_xtra_feats.csv')"
      ],
      "execution_count": 0,
      "outputs": []
    },
    {
      "cell_type": "code",
      "metadata": {
        "id": "2qpBJuD4HOpk",
        "colab_type": "code",
        "colab": {}
      },
      "source": [
        "df_test = pd.read_csv('/content/drive/My Drive/Введение в нейронные сети/Курсовой проект/test_xtra_feats.csv')"
      ],
      "execution_count": 0,
      "outputs": []
    },
    {
      "cell_type": "code",
      "metadata": {
        "id": "ta6nrmJuHVsf",
        "colab_type": "code",
        "outputId": "02a9d8fe-e033-457c-da51-679bfd72ca73",
        "colab": {
          "base_uri": "https://localhost:8080/",
          "height": 207
        }
      },
      "source": [
        "df_train.head(3)"
      ],
      "execution_count": 0,
      "outputs": [
        {
          "output_type": "execute_result",
          "data": {
            "text/html": [
              "<div>\n",
              "<style scoped>\n",
              "    .dataframe tbody tr th:only-of-type {\n",
              "        vertical-align: middle;\n",
              "    }\n",
              "\n",
              "    .dataframe tbody tr th {\n",
              "        vertical-align: top;\n",
              "    }\n",
              "\n",
              "    .dataframe thead th {\n",
              "        text-align: right;\n",
              "    }\n",
              "</style>\n",
              "<table border=\"1\" class=\"dataframe\">\n",
              "  <thead>\n",
              "    <tr style=\"text-align: right;\">\n",
              "      <th></th>\n",
              "      <th>Unnamed: 0</th>\n",
              "      <th>Annual Income</th>\n",
              "      <th>Tax Liens</th>\n",
              "      <th>Number of Open Accounts</th>\n",
              "      <th>Years of Credit History</th>\n",
              "      <th>Maximum Open Credit</th>\n",
              "      <th>Number of Credit Problems</th>\n",
              "      <th>Bankruptcies</th>\n",
              "      <th>Current Loan Amount</th>\n",
              "      <th>Current Credit Balance</th>\n",
              "      <th>Monthly Debt</th>\n",
              "      <th>Credit Score</th>\n",
              "      <th>Credit Default</th>\n",
              "      <th>Have Mortgage</th>\n",
              "      <th>Home Mortgage</th>\n",
              "      <th>Own Home</th>\n",
              "      <th>Rent</th>\n",
              "      <th>1 year</th>\n",
              "      <th>10+ years</th>\n",
              "      <th>2 years</th>\n",
              "      <th>3 years</th>\n",
              "      <th>4 years</th>\n",
              "      <th>5 years</th>\n",
              "      <th>6 years</th>\n",
              "      <th>7 years</th>\n",
              "      <th>8 years</th>\n",
              "      <th>9 years</th>\n",
              "      <th>less 1 year</th>\n",
              "      <th>business loan</th>\n",
              "      <th>buy a car</th>\n",
              "      <th>buy house</th>\n",
              "      <th>debt consolidation</th>\n",
              "      <th>educational expenses</th>\n",
              "      <th>home improvements</th>\n",
              "      <th>major purchase</th>\n",
              "      <th>medical bills</th>\n",
              "      <th>moving</th>\n",
              "      <th>other</th>\n",
              "      <th>renewable energy</th>\n",
              "      <th>small business</th>\n",
              "      <th>take a trip</th>\n",
              "      <th>vacation</th>\n",
              "      <th>wedding</th>\n",
              "      <th>Long Term</th>\n",
              "      <th>Short Term</th>\n",
              "      <th>0</th>\n",
              "      <th>1</th>\n",
              "    </tr>\n",
              "  </thead>\n",
              "  <tbody>\n",
              "    <tr>\n",
              "      <th>0</th>\n",
              "      <td>0</td>\n",
              "      <td>-1.144868</td>\n",
              "      <td>-0.111778</td>\n",
              "      <td>-0.026399</td>\n",
              "      <td>1.133645</td>\n",
              "      <td>-0.002019</td>\n",
              "      <td>1.670729</td>\n",
              "      <td>2.545732</td>\n",
              "      <td>2.76052</td>\n",
              "      <td>-0.770558</td>\n",
              "      <td>-0.875552</td>\n",
              "      <td>-0.216799</td>\n",
              "      <td>0</td>\n",
              "      <td>0</td>\n",
              "      <td>0</td>\n",
              "      <td>1</td>\n",
              "      <td>0</td>\n",
              "      <td>0</td>\n",
              "      <td>1</td>\n",
              "      <td>0</td>\n",
              "      <td>0</td>\n",
              "      <td>0</td>\n",
              "      <td>0</td>\n",
              "      <td>0</td>\n",
              "      <td>0</td>\n",
              "      <td>0</td>\n",
              "      <td>0</td>\n",
              "      <td>0</td>\n",
              "      <td>0</td>\n",
              "      <td>0</td>\n",
              "      <td>0</td>\n",
              "      <td>1</td>\n",
              "      <td>0</td>\n",
              "      <td>0</td>\n",
              "      <td>0</td>\n",
              "      <td>0</td>\n",
              "      <td>0</td>\n",
              "      <td>0</td>\n",
              "      <td>0</td>\n",
              "      <td>0</td>\n",
              "      <td>0</td>\n",
              "      <td>0</td>\n",
              "      <td>0</td>\n",
              "      <td>0</td>\n",
              "      <td>1</td>\n",
              "      <td>1</td>\n",
              "      <td>0</td>\n",
              "    </tr>\n",
              "    <tr>\n",
              "      <th>1</th>\n",
              "      <td>1</td>\n",
              "      <td>-0.440916</td>\n",
              "      <td>-0.111778</td>\n",
              "      <td>0.790069</td>\n",
              "      <td>-0.428528</td>\n",
              "      <td>0.428723</td>\n",
              "      <td>-0.341874</td>\n",
              "      <td>-0.337099</td>\n",
              "      <td>-0.36362</td>\n",
              "      <td>0.335074</td>\n",
              "      <td>0.005506</td>\n",
              "      <td>-0.225139</td>\n",
              "      <td>1</td>\n",
              "      <td>0</td>\n",
              "      <td>0</td>\n",
              "      <td>1</td>\n",
              "      <td>0</td>\n",
              "      <td>0</td>\n",
              "      <td>1</td>\n",
              "      <td>0</td>\n",
              "      <td>0</td>\n",
              "      <td>0</td>\n",
              "      <td>0</td>\n",
              "      <td>0</td>\n",
              "      <td>0</td>\n",
              "      <td>0</td>\n",
              "      <td>0</td>\n",
              "      <td>0</td>\n",
              "      <td>0</td>\n",
              "      <td>0</td>\n",
              "      <td>0</td>\n",
              "      <td>1</td>\n",
              "      <td>0</td>\n",
              "      <td>0</td>\n",
              "      <td>0</td>\n",
              "      <td>0</td>\n",
              "      <td>0</td>\n",
              "      <td>0</td>\n",
              "      <td>0</td>\n",
              "      <td>0</td>\n",
              "      <td>0</td>\n",
              "      <td>0</td>\n",
              "      <td>0</td>\n",
              "      <td>1</td>\n",
              "      <td>0</td>\n",
              "      <td>1</td>\n",
              "      <td>0</td>\n",
              "    </tr>\n",
              "    <tr>\n",
              "      <th>2</th>\n",
              "      <td>2</td>\n",
              "      <td>-0.795969</td>\n",
              "      <td>-0.111778</td>\n",
              "      <td>-0.026399</td>\n",
              "      <td>2.369181</td>\n",
              "      <td>0.429335</td>\n",
              "      <td>-0.341874</td>\n",
              "      <td>-0.337099</td>\n",
              "      <td>2.76052</td>\n",
              "      <td>0.059663</td>\n",
              "      <td>-0.392272</td>\n",
              "      <td>-0.221664</td>\n",
              "      <td>0</td>\n",
              "      <td>0</td>\n",
              "      <td>1</td>\n",
              "      <td>0</td>\n",
              "      <td>0</td>\n",
              "      <td>0</td>\n",
              "      <td>0</td>\n",
              "      <td>0</td>\n",
              "      <td>0</td>\n",
              "      <td>0</td>\n",
              "      <td>0</td>\n",
              "      <td>0</td>\n",
              "      <td>0</td>\n",
              "      <td>1</td>\n",
              "      <td>0</td>\n",
              "      <td>0</td>\n",
              "      <td>0</td>\n",
              "      <td>0</td>\n",
              "      <td>0</td>\n",
              "      <td>1</td>\n",
              "      <td>0</td>\n",
              "      <td>0</td>\n",
              "      <td>0</td>\n",
              "      <td>0</td>\n",
              "      <td>0</td>\n",
              "      <td>0</td>\n",
              "      <td>0</td>\n",
              "      <td>0</td>\n",
              "      <td>0</td>\n",
              "      <td>0</td>\n",
              "      <td>0</td>\n",
              "      <td>0</td>\n",
              "      <td>1</td>\n",
              "      <td>1</td>\n",
              "      <td>0</td>\n",
              "    </tr>\n",
              "  </tbody>\n",
              "</table>\n",
              "</div>"
            ],
            "text/plain": [
              "   Unnamed: 0  Annual Income  Tax Liens  ...  Short Term  0  1\n",
              "0           0      -1.144868  -0.111778  ...           1  1  0\n",
              "1           1      -0.440916  -0.111778  ...           0  1  0\n",
              "2           2      -0.795969  -0.111778  ...           1  1  0\n",
              "\n",
              "[3 rows x 47 columns]"
            ]
          },
          "metadata": {
            "tags": []
          },
          "execution_count": 5
        }
      ]
    },
    {
      "cell_type": "code",
      "metadata": {
        "id": "Hn4lUTZNMfyO",
        "colab_type": "code",
        "outputId": "a646c2ff-cab1-48a4-8ce2-d9c8e1a050d1",
        "colab": {
          "base_uri": "https://localhost:8080/",
          "height": 207
        }
      },
      "source": [
        "df_test.head(3)"
      ],
      "execution_count": 0,
      "outputs": [
        {
          "output_type": "execute_result",
          "data": {
            "text/html": [
              "<div>\n",
              "<style scoped>\n",
              "    .dataframe tbody tr th:only-of-type {\n",
              "        vertical-align: middle;\n",
              "    }\n",
              "\n",
              "    .dataframe tbody tr th {\n",
              "        vertical-align: top;\n",
              "    }\n",
              "\n",
              "    .dataframe thead th {\n",
              "        text-align: right;\n",
              "    }\n",
              "</style>\n",
              "<table border=\"1\" class=\"dataframe\">\n",
              "  <thead>\n",
              "    <tr style=\"text-align: right;\">\n",
              "      <th></th>\n",
              "      <th>Unnamed: 0</th>\n",
              "      <th>Annual Income</th>\n",
              "      <th>Tax Liens</th>\n",
              "      <th>Number of Open Accounts</th>\n",
              "      <th>Years of Credit History</th>\n",
              "      <th>Maximum Open Credit</th>\n",
              "      <th>Number of Credit Problems</th>\n",
              "      <th>Bankruptcies</th>\n",
              "      <th>Current Loan Amount</th>\n",
              "      <th>Current Credit Balance</th>\n",
              "      <th>Monthly Debt</th>\n",
              "      <th>Credit Score</th>\n",
              "      <th>Have Mortgage</th>\n",
              "      <th>Home Mortgage</th>\n",
              "      <th>Own Home</th>\n",
              "      <th>Rent</th>\n",
              "      <th>1 year</th>\n",
              "      <th>10+ years</th>\n",
              "      <th>2 years</th>\n",
              "      <th>3 years</th>\n",
              "      <th>4 years</th>\n",
              "      <th>5 years</th>\n",
              "      <th>6 years</th>\n",
              "      <th>7 years</th>\n",
              "      <th>8 years</th>\n",
              "      <th>9 years</th>\n",
              "      <th>less 1 year</th>\n",
              "      <th>business loan</th>\n",
              "      <th>buy a car</th>\n",
              "      <th>buy house</th>\n",
              "      <th>debt consolidation</th>\n",
              "      <th>educational expenses</th>\n",
              "      <th>home improvements</th>\n",
              "      <th>major purchase</th>\n",
              "      <th>medical bills</th>\n",
              "      <th>moving</th>\n",
              "      <th>other</th>\n",
              "      <th>small business</th>\n",
              "      <th>take a trip</th>\n",
              "      <th>vacation</th>\n",
              "      <th>wedding</th>\n",
              "      <th>Long Term</th>\n",
              "      <th>Short Term</th>\n",
              "      <th>0</th>\n",
              "      <th>1</th>\n",
              "    </tr>\n",
              "  </thead>\n",
              "  <tbody>\n",
              "    <tr>\n",
              "      <th>0</th>\n",
              "      <td>0</td>\n",
              "      <td>-0.599059</td>\n",
              "      <td>-0.11632</td>\n",
              "      <td>-0.451849</td>\n",
              "      <td>-0.803220</td>\n",
              "      <td>-0.411914</td>\n",
              "      <td>-0.326739</td>\n",
              "      <td>-0.299225</td>\n",
              "      <td>-0.371832</td>\n",
              "      <td>-0.511337</td>\n",
              "      <td>-0.992788</td>\n",
              "      <td>-0.260150</td>\n",
              "      <td>0</td>\n",
              "      <td>0</td>\n",
              "      <td>0</td>\n",
              "      <td>1</td>\n",
              "      <td>0</td>\n",
              "      <td>0</td>\n",
              "      <td>0</td>\n",
              "      <td>0</td>\n",
              "      <td>1</td>\n",
              "      <td>0</td>\n",
              "      <td>0</td>\n",
              "      <td>0</td>\n",
              "      <td>0</td>\n",
              "      <td>0</td>\n",
              "      <td>0</td>\n",
              "      <td>0</td>\n",
              "      <td>0</td>\n",
              "      <td>0</td>\n",
              "      <td>1</td>\n",
              "      <td>0</td>\n",
              "      <td>0</td>\n",
              "      <td>0</td>\n",
              "      <td>0</td>\n",
              "      <td>0</td>\n",
              "      <td>0</td>\n",
              "      <td>0</td>\n",
              "      <td>0</td>\n",
              "      <td>0</td>\n",
              "      <td>0</td>\n",
              "      <td>0</td>\n",
              "      <td>1</td>\n",
              "      <td>1</td>\n",
              "      <td>0</td>\n",
              "    </tr>\n",
              "    <tr>\n",
              "      <th>1</th>\n",
              "      <td>1</td>\n",
              "      <td>-1.500132</td>\n",
              "      <td>-0.11632</td>\n",
              "      <td>-1.073547</td>\n",
              "      <td>1.981755</td>\n",
              "      <td>-0.554306</td>\n",
              "      <td>-0.326739</td>\n",
              "      <td>-0.299225</td>\n",
              "      <td>-0.374441</td>\n",
              "      <td>-0.672453</td>\n",
              "      <td>-1.382250</td>\n",
              "      <td>-0.274207</td>\n",
              "      <td>0</td>\n",
              "      <td>0</td>\n",
              "      <td>0</td>\n",
              "      <td>1</td>\n",
              "      <td>1</td>\n",
              "      <td>0</td>\n",
              "      <td>0</td>\n",
              "      <td>0</td>\n",
              "      <td>0</td>\n",
              "      <td>0</td>\n",
              "      <td>0</td>\n",
              "      <td>0</td>\n",
              "      <td>0</td>\n",
              "      <td>0</td>\n",
              "      <td>0</td>\n",
              "      <td>0</td>\n",
              "      <td>0</td>\n",
              "      <td>0</td>\n",
              "      <td>0</td>\n",
              "      <td>1</td>\n",
              "      <td>0</td>\n",
              "      <td>0</td>\n",
              "      <td>0</td>\n",
              "      <td>0</td>\n",
              "      <td>0</td>\n",
              "      <td>0</td>\n",
              "      <td>0</td>\n",
              "      <td>0</td>\n",
              "      <td>0</td>\n",
              "      <td>0</td>\n",
              "      <td>1</td>\n",
              "      <td>1</td>\n",
              "      <td>0</td>\n",
              "    </tr>\n",
              "    <tr>\n",
              "      <th>2</th>\n",
              "      <td>2</td>\n",
              "      <td>-0.274189</td>\n",
              "      <td>-0.11632</td>\n",
              "      <td>-0.244617</td>\n",
              "      <td>-0.637776</td>\n",
              "      <td>-0.426038</td>\n",
              "      <td>-0.326739</td>\n",
              "      <td>-0.299225</td>\n",
              "      <td>-0.370663</td>\n",
              "      <td>-0.402120</td>\n",
              "      <td>0.039653</td>\n",
              "      <td>3.917859</td>\n",
              "      <td>0</td>\n",
              "      <td>1</td>\n",
              "      <td>0</td>\n",
              "      <td>0</td>\n",
              "      <td>0</td>\n",
              "      <td>0</td>\n",
              "      <td>0</td>\n",
              "      <td>1</td>\n",
              "      <td>0</td>\n",
              "      <td>0</td>\n",
              "      <td>0</td>\n",
              "      <td>0</td>\n",
              "      <td>0</td>\n",
              "      <td>0</td>\n",
              "      <td>0</td>\n",
              "      <td>0</td>\n",
              "      <td>0</td>\n",
              "      <td>0</td>\n",
              "      <td>1</td>\n",
              "      <td>0</td>\n",
              "      <td>0</td>\n",
              "      <td>0</td>\n",
              "      <td>0</td>\n",
              "      <td>0</td>\n",
              "      <td>0</td>\n",
              "      <td>0</td>\n",
              "      <td>0</td>\n",
              "      <td>0</td>\n",
              "      <td>0</td>\n",
              "      <td>0</td>\n",
              "      <td>1</td>\n",
              "      <td>0</td>\n",
              "      <td>1</td>\n",
              "    </tr>\n",
              "  </tbody>\n",
              "</table>\n",
              "</div>"
            ],
            "text/plain": [
              "   Unnamed: 0  Annual Income  Tax Liens  ...  Short Term  0  1\n",
              "0           0      -0.599059   -0.11632  ...           1  1  0\n",
              "1           1      -1.500132   -0.11632  ...           1  1  0\n",
              "2           2      -0.274189   -0.11632  ...           1  0  1\n",
              "\n",
              "[3 rows x 45 columns]"
            ]
          },
          "metadata": {
            "tags": []
          },
          "execution_count": 6
        }
      ]
    },
    {
      "cell_type": "code",
      "metadata": {
        "id": "whc8ajJgLH8q",
        "colab_type": "code",
        "colab": {}
      },
      "source": [
        "# Уберем колонку \"Unnamed:0\"\n",
        "\n",
        "df_train = df_train.drop(df_train.columns[0], axis=1)\n",
        "df_test = df_test.drop(df_test.columns[0], axis=1)"
      ],
      "execution_count": 0,
      "outputs": []
    },
    {
      "cell_type": "markdown",
      "metadata": {
        "id": "l6ZjmTMsLxzl",
        "colab_type": "text"
      },
      "source": [
        "### Приведем данные к диапазону от 0 до 1.\n"
      ]
    },
    {
      "cell_type": "code",
      "metadata": {
        "id": "gTGOgfKYJx3F",
        "colab_type": "code",
        "colab": {}
      },
      "source": [
        "scaler = MinMaxScaler()\n",
        "df_train[:] = scaler.fit_transform(df_train[:])\n",
        "df_test[:] = scaler.fit_transform(df_test[:])"
      ],
      "execution_count": 0,
      "outputs": []
    },
    {
      "cell_type": "code",
      "metadata": {
        "id": "tb7DpRfHKmTM",
        "colab_type": "code",
        "outputId": "ea91e6a3-3313-43fe-b9f3-6f01cbf84a51",
        "colab": {
          "base_uri": "https://localhost:8080/",
          "height": 207
        }
      },
      "source": [
        "df_train.head(3)"
      ],
      "execution_count": 0,
      "outputs": [
        {
          "output_type": "execute_result",
          "data": {
            "text/html": [
              "<div>\n",
              "<style scoped>\n",
              "    .dataframe tbody tr th:only-of-type {\n",
              "        vertical-align: middle;\n",
              "    }\n",
              "\n",
              "    .dataframe tbody tr th {\n",
              "        vertical-align: top;\n",
              "    }\n",
              "\n",
              "    .dataframe thead th {\n",
              "        text-align: right;\n",
              "    }\n",
              "</style>\n",
              "<table border=\"1\" class=\"dataframe\">\n",
              "  <thead>\n",
              "    <tr style=\"text-align: right;\">\n",
              "      <th></th>\n",
              "      <th>Annual Income</th>\n",
              "      <th>Tax Liens</th>\n",
              "      <th>Number of Open Accounts</th>\n",
              "      <th>Years of Credit History</th>\n",
              "      <th>Maximum Open Credit</th>\n",
              "      <th>Number of Credit Problems</th>\n",
              "      <th>Bankruptcies</th>\n",
              "      <th>Current Loan Amount</th>\n",
              "      <th>Current Credit Balance</th>\n",
              "      <th>Monthly Debt</th>\n",
              "      <th>Credit Score</th>\n",
              "      <th>Credit Default</th>\n",
              "      <th>Have Mortgage</th>\n",
              "      <th>Home Mortgage</th>\n",
              "      <th>Own Home</th>\n",
              "      <th>Rent</th>\n",
              "      <th>1 year</th>\n",
              "      <th>10+ years</th>\n",
              "      <th>2 years</th>\n",
              "      <th>3 years</th>\n",
              "      <th>4 years</th>\n",
              "      <th>5 years</th>\n",
              "      <th>6 years</th>\n",
              "      <th>7 years</th>\n",
              "      <th>8 years</th>\n",
              "      <th>9 years</th>\n",
              "      <th>less 1 year</th>\n",
              "      <th>business loan</th>\n",
              "      <th>buy a car</th>\n",
              "      <th>buy house</th>\n",
              "      <th>debt consolidation</th>\n",
              "      <th>educational expenses</th>\n",
              "      <th>home improvements</th>\n",
              "      <th>major purchase</th>\n",
              "      <th>medical bills</th>\n",
              "      <th>moving</th>\n",
              "      <th>other</th>\n",
              "      <th>renewable energy</th>\n",
              "      <th>small business</th>\n",
              "      <th>take a trip</th>\n",
              "      <th>vacation</th>\n",
              "      <th>wedding</th>\n",
              "      <th>Long Term</th>\n",
              "      <th>Short Term</th>\n",
              "      <th>0</th>\n",
              "      <th>1</th>\n",
              "    </tr>\n",
              "  </thead>\n",
              "  <tbody>\n",
              "    <tr>\n",
              "      <th>0</th>\n",
              "      <td>0.039911</td>\n",
              "      <td>0.0</td>\n",
              "      <td>0.250000</td>\n",
              "      <td>0.415270</td>\n",
              "      <td>0.027438</td>\n",
              "      <td>0.166667</td>\n",
              "      <td>0.25</td>\n",
              "      <td>1.000000</td>\n",
              "      <td>0.009477</td>\n",
              "      <td>0.07914</td>\n",
              "      <td>0.023682</td>\n",
              "      <td>0.0</td>\n",
              "      <td>0.0</td>\n",
              "      <td>0.0</td>\n",
              "      <td>1.0</td>\n",
              "      <td>0.0</td>\n",
              "      <td>0.0</td>\n",
              "      <td>1.0</td>\n",
              "      <td>0.0</td>\n",
              "      <td>0.0</td>\n",
              "      <td>0.0</td>\n",
              "      <td>0.0</td>\n",
              "      <td>0.0</td>\n",
              "      <td>0.0</td>\n",
              "      <td>0.0</td>\n",
              "      <td>0.0</td>\n",
              "      <td>0.0</td>\n",
              "      <td>0.0</td>\n",
              "      <td>0.0</td>\n",
              "      <td>0.0</td>\n",
              "      <td>1.0</td>\n",
              "      <td>0.0</td>\n",
              "      <td>0.0</td>\n",
              "      <td>0.0</td>\n",
              "      <td>0.0</td>\n",
              "      <td>0.0</td>\n",
              "      <td>0.0</td>\n",
              "      <td>0.0</td>\n",
              "      <td>0.0</td>\n",
              "      <td>0.0</td>\n",
              "      <td>0.0</td>\n",
              "      <td>0.0</td>\n",
              "      <td>0.0</td>\n",
              "      <td>1.0</td>\n",
              "      <td>1.0</td>\n",
              "      <td>0.0</td>\n",
              "    </tr>\n",
              "    <tr>\n",
              "      <th>1</th>\n",
              "      <td>0.108222</td>\n",
              "      <td>0.0</td>\n",
              "      <td>0.361111</td>\n",
              "      <td>0.210428</td>\n",
              "      <td>0.047269</td>\n",
              "      <td>0.000000</td>\n",
              "      <td>0.00</td>\n",
              "      <td>0.002538</td>\n",
              "      <td>0.078994</td>\n",
              "      <td>0.18373</td>\n",
              "      <td>0.021949</td>\n",
              "      <td>1.0</td>\n",
              "      <td>0.0</td>\n",
              "      <td>0.0</td>\n",
              "      <td>1.0</td>\n",
              "      <td>0.0</td>\n",
              "      <td>0.0</td>\n",
              "      <td>1.0</td>\n",
              "      <td>0.0</td>\n",
              "      <td>0.0</td>\n",
              "      <td>0.0</td>\n",
              "      <td>0.0</td>\n",
              "      <td>0.0</td>\n",
              "      <td>0.0</td>\n",
              "      <td>0.0</td>\n",
              "      <td>0.0</td>\n",
              "      <td>0.0</td>\n",
              "      <td>0.0</td>\n",
              "      <td>0.0</td>\n",
              "      <td>0.0</td>\n",
              "      <td>1.0</td>\n",
              "      <td>0.0</td>\n",
              "      <td>0.0</td>\n",
              "      <td>0.0</td>\n",
              "      <td>0.0</td>\n",
              "      <td>0.0</td>\n",
              "      <td>0.0</td>\n",
              "      <td>0.0</td>\n",
              "      <td>0.0</td>\n",
              "      <td>0.0</td>\n",
              "      <td>0.0</td>\n",
              "      <td>0.0</td>\n",
              "      <td>1.0</td>\n",
              "      <td>0.0</td>\n",
              "      <td>1.0</td>\n",
              "      <td>0.0</td>\n",
              "    </tr>\n",
              "    <tr>\n",
              "      <th>2</th>\n",
              "      <td>0.073768</td>\n",
              "      <td>0.0</td>\n",
              "      <td>0.250000</td>\n",
              "      <td>0.577281</td>\n",
              "      <td>0.047297</td>\n",
              "      <td>0.000000</td>\n",
              "      <td>0.00</td>\n",
              "      <td>1.000000</td>\n",
              "      <td>0.061678</td>\n",
              "      <td>0.13651</td>\n",
              "      <td>0.022671</td>\n",
              "      <td>0.0</td>\n",
              "      <td>0.0</td>\n",
              "      <td>1.0</td>\n",
              "      <td>0.0</td>\n",
              "      <td>0.0</td>\n",
              "      <td>0.0</td>\n",
              "      <td>0.0</td>\n",
              "      <td>0.0</td>\n",
              "      <td>0.0</td>\n",
              "      <td>0.0</td>\n",
              "      <td>0.0</td>\n",
              "      <td>0.0</td>\n",
              "      <td>0.0</td>\n",
              "      <td>1.0</td>\n",
              "      <td>0.0</td>\n",
              "      <td>0.0</td>\n",
              "      <td>0.0</td>\n",
              "      <td>0.0</td>\n",
              "      <td>0.0</td>\n",
              "      <td>1.0</td>\n",
              "      <td>0.0</td>\n",
              "      <td>0.0</td>\n",
              "      <td>0.0</td>\n",
              "      <td>0.0</td>\n",
              "      <td>0.0</td>\n",
              "      <td>0.0</td>\n",
              "      <td>0.0</td>\n",
              "      <td>0.0</td>\n",
              "      <td>0.0</td>\n",
              "      <td>0.0</td>\n",
              "      <td>0.0</td>\n",
              "      <td>0.0</td>\n",
              "      <td>1.0</td>\n",
              "      <td>1.0</td>\n",
              "      <td>0.0</td>\n",
              "    </tr>\n",
              "  </tbody>\n",
              "</table>\n",
              "</div>"
            ],
            "text/plain": [
              "   Annual Income  Tax Liens  Number of Open Accounts  ...  Short Term    0    1\n",
              "0       0.039911        0.0                 0.250000  ...         1.0  1.0  0.0\n",
              "1       0.108222        0.0                 0.361111  ...         0.0  1.0  0.0\n",
              "2       0.073768        0.0                 0.250000  ...         1.0  1.0  0.0\n",
              "\n",
              "[3 rows x 46 columns]"
            ]
          },
          "metadata": {
            "tags": []
          },
          "execution_count": 9
        }
      ]
    },
    {
      "cell_type": "code",
      "metadata": {
        "id": "_f_EjREeMX_1",
        "colab_type": "code",
        "outputId": "550596dc-8d27-42c2-8d98-32ddbb44b64c",
        "colab": {
          "base_uri": "https://localhost:8080/",
          "height": 207
        }
      },
      "source": [
        "df_test.head(3)"
      ],
      "execution_count": 0,
      "outputs": [
        {
          "output_type": "execute_result",
          "data": {
            "text/html": [
              "<div>\n",
              "<style scoped>\n",
              "    .dataframe tbody tr th:only-of-type {\n",
              "        vertical-align: middle;\n",
              "    }\n",
              "\n",
              "    .dataframe tbody tr th {\n",
              "        vertical-align: top;\n",
              "    }\n",
              "\n",
              "    .dataframe thead th {\n",
              "        text-align: right;\n",
              "    }\n",
              "</style>\n",
              "<table border=\"1\" class=\"dataframe\">\n",
              "  <thead>\n",
              "    <tr style=\"text-align: right;\">\n",
              "      <th></th>\n",
              "      <th>Annual Income</th>\n",
              "      <th>Tax Liens</th>\n",
              "      <th>Number of Open Accounts</th>\n",
              "      <th>Years of Credit History</th>\n",
              "      <th>Maximum Open Credit</th>\n",
              "      <th>Number of Credit Problems</th>\n",
              "      <th>Bankruptcies</th>\n",
              "      <th>Current Loan Amount</th>\n",
              "      <th>Current Credit Balance</th>\n",
              "      <th>Monthly Debt</th>\n",
              "      <th>Credit Score</th>\n",
              "      <th>Have Mortgage</th>\n",
              "      <th>Home Mortgage</th>\n",
              "      <th>Own Home</th>\n",
              "      <th>Rent</th>\n",
              "      <th>1 year</th>\n",
              "      <th>10+ years</th>\n",
              "      <th>2 years</th>\n",
              "      <th>3 years</th>\n",
              "      <th>4 years</th>\n",
              "      <th>5 years</th>\n",
              "      <th>6 years</th>\n",
              "      <th>7 years</th>\n",
              "      <th>8 years</th>\n",
              "      <th>9 years</th>\n",
              "      <th>less 1 year</th>\n",
              "      <th>business loan</th>\n",
              "      <th>buy a car</th>\n",
              "      <th>buy house</th>\n",
              "      <th>debt consolidation</th>\n",
              "      <th>educational expenses</th>\n",
              "      <th>home improvements</th>\n",
              "      <th>major purchase</th>\n",
              "      <th>medical bills</th>\n",
              "      <th>moving</th>\n",
              "      <th>other</th>\n",
              "      <th>small business</th>\n",
              "      <th>take a trip</th>\n",
              "      <th>vacation</th>\n",
              "      <th>wedding</th>\n",
              "      <th>Long Term</th>\n",
              "      <th>Short Term</th>\n",
              "      <th>0</th>\n",
              "      <th>1</th>\n",
              "    </tr>\n",
              "  </thead>\n",
              "  <tbody>\n",
              "    <tr>\n",
              "      <th>0</th>\n",
              "      <td>0.098844</td>\n",
              "      <td>0.0</td>\n",
              "      <td>0.216216</td>\n",
              "      <td>0.173737</td>\n",
              "      <td>0.008839</td>\n",
              "      <td>0.0</td>\n",
              "      <td>0.0</td>\n",
              "      <td>0.001471</td>\n",
              "      <td>0.021181</td>\n",
              "      <td>0.071901</td>\n",
              "      <td>0.019724</td>\n",
              "      <td>0.0</td>\n",
              "      <td>0.0</td>\n",
              "      <td>0.0</td>\n",
              "      <td>1.0</td>\n",
              "      <td>0.0</td>\n",
              "      <td>0.0</td>\n",
              "      <td>0.0</td>\n",
              "      <td>0.0</td>\n",
              "      <td>1.0</td>\n",
              "      <td>0.0</td>\n",
              "      <td>0.0</td>\n",
              "      <td>0.0</td>\n",
              "      <td>0.0</td>\n",
              "      <td>0.0</td>\n",
              "      <td>0.0</td>\n",
              "      <td>0.0</td>\n",
              "      <td>0.0</td>\n",
              "      <td>0.0</td>\n",
              "      <td>1.0</td>\n",
              "      <td>0.0</td>\n",
              "      <td>0.0</td>\n",
              "      <td>0.0</td>\n",
              "      <td>0.0</td>\n",
              "      <td>0.0</td>\n",
              "      <td>0.0</td>\n",
              "      <td>0.0</td>\n",
              "      <td>0.0</td>\n",
              "      <td>0.0</td>\n",
              "      <td>0.0</td>\n",
              "      <td>0.0</td>\n",
              "      <td>1.0</td>\n",
              "      <td>1.0</td>\n",
              "      <td>0.0</td>\n",
              "    </tr>\n",
              "    <tr>\n",
              "      <th>1</th>\n",
              "      <td>0.015443</td>\n",
              "      <td>0.0</td>\n",
              "      <td>0.135135</td>\n",
              "      <td>0.581818</td>\n",
              "      <td>0.002238</td>\n",
              "      <td>0.0</td>\n",
              "      <td>0.0</td>\n",
              "      <td>0.000629</td>\n",
              "      <td>0.009207</td>\n",
              "      <td>0.023806</td>\n",
              "      <td>0.016534</td>\n",
              "      <td>0.0</td>\n",
              "      <td>0.0</td>\n",
              "      <td>0.0</td>\n",
              "      <td>1.0</td>\n",
              "      <td>1.0</td>\n",
              "      <td>0.0</td>\n",
              "      <td>0.0</td>\n",
              "      <td>0.0</td>\n",
              "      <td>0.0</td>\n",
              "      <td>0.0</td>\n",
              "      <td>0.0</td>\n",
              "      <td>0.0</td>\n",
              "      <td>0.0</td>\n",
              "      <td>0.0</td>\n",
              "      <td>0.0</td>\n",
              "      <td>0.0</td>\n",
              "      <td>0.0</td>\n",
              "      <td>0.0</td>\n",
              "      <td>0.0</td>\n",
              "      <td>1.0</td>\n",
              "      <td>0.0</td>\n",
              "      <td>0.0</td>\n",
              "      <td>0.0</td>\n",
              "      <td>0.0</td>\n",
              "      <td>0.0</td>\n",
              "      <td>0.0</td>\n",
              "      <td>0.0</td>\n",
              "      <td>0.0</td>\n",
              "      <td>0.0</td>\n",
              "      <td>0.0</td>\n",
              "      <td>1.0</td>\n",
              "      <td>1.0</td>\n",
              "      <td>0.0</td>\n",
              "    </tr>\n",
              "    <tr>\n",
              "      <th>2</th>\n",
              "      <td>0.128913</td>\n",
              "      <td>0.0</td>\n",
              "      <td>0.243243</td>\n",
              "      <td>0.197980</td>\n",
              "      <td>0.008184</td>\n",
              "      <td>0.0</td>\n",
              "      <td>0.0</td>\n",
              "      <td>0.001848</td>\n",
              "      <td>0.029298</td>\n",
              "      <td>0.199397</td>\n",
              "      <td>0.968093</td>\n",
              "      <td>0.0</td>\n",
              "      <td>1.0</td>\n",
              "      <td>0.0</td>\n",
              "      <td>0.0</td>\n",
              "      <td>0.0</td>\n",
              "      <td>0.0</td>\n",
              "      <td>0.0</td>\n",
              "      <td>1.0</td>\n",
              "      <td>0.0</td>\n",
              "      <td>0.0</td>\n",
              "      <td>0.0</td>\n",
              "      <td>0.0</td>\n",
              "      <td>0.0</td>\n",
              "      <td>0.0</td>\n",
              "      <td>0.0</td>\n",
              "      <td>0.0</td>\n",
              "      <td>0.0</td>\n",
              "      <td>0.0</td>\n",
              "      <td>1.0</td>\n",
              "      <td>0.0</td>\n",
              "      <td>0.0</td>\n",
              "      <td>0.0</td>\n",
              "      <td>0.0</td>\n",
              "      <td>0.0</td>\n",
              "      <td>0.0</td>\n",
              "      <td>0.0</td>\n",
              "      <td>0.0</td>\n",
              "      <td>0.0</td>\n",
              "      <td>0.0</td>\n",
              "      <td>0.0</td>\n",
              "      <td>1.0</td>\n",
              "      <td>0.0</td>\n",
              "      <td>1.0</td>\n",
              "    </tr>\n",
              "  </tbody>\n",
              "</table>\n",
              "</div>"
            ],
            "text/plain": [
              "   Annual Income  Tax Liens  Number of Open Accounts  ...  Short Term    0    1\n",
              "0       0.098844        0.0                 0.216216  ...         1.0  1.0  0.0\n",
              "1       0.015443        0.0                 0.135135  ...         1.0  1.0  0.0\n",
              "2       0.128913        0.0                 0.243243  ...         1.0  0.0  1.0\n",
              "\n",
              "[3 rows x 44 columns]"
            ]
          },
          "metadata": {
            "tags": []
          },
          "execution_count": 10
        }
      ]
    },
    {
      "cell_type": "markdown",
      "metadata": {
        "id": "D-QFGIA2y5FY",
        "colab_type": "text"
      },
      "source": [
        "### Визуализация 3-х строк"
      ]
    },
    {
      "cell_type": "code",
      "metadata": {
        "id": "VzD2tXN2u8v0",
        "colab_type": "code",
        "outputId": "e5949fcf-3d3a-4fc3-86d6-74b015e89a98",
        "colab": {
          "base_uri": "https://localhost:8080/",
          "height": 68
        }
      },
      "source": [
        "plt.figure(figsize=[5,.3])\n",
        "sns.heatmap(df_train.loc[1:3].values, cmap='Greys')\n",
        "\n",
        "plt.show()"
      ],
      "execution_count": 0,
      "outputs": [
        {
          "output_type": "display_data",
          "data": {
            "image/png": "[encoded data removed]",
            "text/plain": [
              "<Figure size 360x21.6 with 2 Axes>"
            ]
          },
          "metadata": {
            "tags": [],
            "needs_background": "light"
          }
        }
      ]
    },
    {
      "cell_type": "markdown",
      "metadata": {
        "id": "Hy2pmcfO2BBb",
        "colab_type": "text"
      },
      "source": [
        "### Отделим лейбл от тренировочного датасета и поделим его на тренировочный и валидационный\n"
      ]
    },
    {
      "cell_type": "code",
      "metadata": {
        "id": "IBk-YjHMzCin",
        "colab_type": "code",
        "outputId": "63a1e364-8b45-47b1-ae88-480a658d13f3",
        "colab": {
          "base_uri": "https://localhost:8080/",
          "height": 33
        }
      },
      "source": [
        "# Уберем лишний признак \"renewable energy\" т.к. его нет в df_test.\n",
        "\n",
        "set(df_train.columns) - set(df_test.columns)"
      ],
      "execution_count": 0,
      "outputs": [
        {
          "output_type": "execute_result",
          "data": {
            "text/plain": [
              "{'Credit Default', 'renewable energy'}"
            ]
          },
          "metadata": {
            "tags": []
          },
          "execution_count": 12
        }
      ]
    },
    {
      "cell_type": "code",
      "metadata": {
        "id": "bF84ghgA5FiW",
        "colab_type": "code",
        "colab": {}
      },
      "source": [
        "df_train = df_train.drop(columns='renewable energy')"
      ],
      "execution_count": 0,
      "outputs": []
    },
    {
      "cell_type": "code",
      "metadata": {
        "id": "UkRFMtDJ5UuT",
        "colab_type": "code",
        "colab": {}
      },
      "source": [
        "# Отделим целевой признак от трейна.\n",
        "\n",
        "X = df_train.loc[:, df_train.columns != 'Credit Default']\n",
        "y = df_train['Credit Default']"
      ],
      "execution_count": 0,
      "outputs": []
    },
    {
      "cell_type": "code",
      "metadata": {
        "id": "K9yvreHr6SBh",
        "colab_type": "code",
        "colab": {}
      },
      "source": [
        "# Делим на трейн и валид. Используем перемешивание и стратификацию.\n",
        "\n",
        "X_train, X_valid, y_train, y_valid = train_test_split(X, y, shuffle=True, test_size=.2, random_state=21, stratify=y)"
      ],
      "execution_count": 0,
      "outputs": []
    },
    {
      "cell_type": "code",
      "metadata": {
        "id": "k4n1eP-k6jBB",
        "colab_type": "code",
        "outputId": "cf2e14ba-cf8e-429c-9180-571ec1f7a152",
        "colab": {
          "base_uri": "https://localhost:8080/",
          "height": 33
        }
      },
      "source": [
        "X_train.shape, X_valid.shape, df_test.shape"
      ],
      "execution_count": 0,
      "outputs": [
        {
          "output_type": "execute_result",
          "data": {
            "text/plain": [
              "((6000, 44), (1500, 44), (2500, 44))"
            ]
          },
          "metadata": {
            "tags": []
          },
          "execution_count": 16
        }
      ]
    },
    {
      "cell_type": "markdown",
      "metadata": {
        "id": "ZfPMMBq08wxf",
        "colab_type": "text"
      },
      "source": [
        "### Проверка стратифицированности"
      ]
    },
    {
      "cell_type": "code",
      "metadata": {
        "id": "E_-z0evn6w45",
        "colab_type": "code",
        "outputId": "af3e14d7-0ee9-4868-d8fd-cddb071cd583",
        "colab": {
          "base_uri": "https://localhost:8080/",
          "height": 33
        }
      },
      "source": [
        "((y_train.value_counts()[0] / y_train.value_counts()[1]).round(2), # соотношение лейбла в тестовом наборе\n",
        "(y_valid.value_counts()[0] / y_valid.value_counts()[1]).round(2))  # соотношение лейбла в валидационном наборе"
      ],
      "execution_count": 0,
      "outputs": [
        {
          "output_type": "execute_result",
          "data": {
            "text/plain": [
              "(2.55, 2.55)"
            ]
          },
          "metadata": {
            "tags": []
          },
          "execution_count": 17
        }
      ]
    },
    {
      "cell_type": "markdown",
      "metadata": {
        "id": "9CmdyrxfNXBt",
        "colab_type": "text"
      },
      "source": [
        "### Определим наборы и для удобства назовем их images."
      ]
    },
    {
      "cell_type": "code",
      "metadata": {
        "id": "FL04qm5sMQFX",
        "colab_type": "code",
        "colab": {}
      },
      "source": [
        "train_images = X_train.loc[:].values\n",
        "valid_images = X_valid.loc[:].values\n",
        "test_images = df_test.loc[:].values"
      ],
      "execution_count": 0,
      "outputs": []
    },
    {
      "cell_type": "markdown",
      "metadata": {
        "id": "rgYkD6tcNyrp",
        "colab_type": "text"
      },
      "source": [
        "### Определим лейблы \n"
      ]
    },
    {
      "cell_type": "code",
      "metadata": {
        "id": "7jfg3IHMNyN9",
        "colab_type": "code",
        "colab": {}
      },
      "source": [
        "train_labels = y_train.values\n",
        "valid_labels = y_valid.values"
      ],
      "execution_count": 0,
      "outputs": []
    },
    {
      "cell_type": "markdown",
      "metadata": {
        "id": "jdIPFMsz9Kp7",
        "colab_type": "text"
      },
      "source": [
        "### Построение модели"
      ]
    },
    {
      "cell_type": "code",
      "metadata": {
        "id": "yy2PaPtG87M4",
        "colab_type": "code",
        "colab": {}
      },
      "source": [
        "from keras.models import Sequential\n",
        "from keras.layers import Dense\n",
        "from keras.utils import to_categorical"
      ],
      "execution_count": 0,
      "outputs": []
    },
    {
      "cell_type": "code",
      "metadata": {
        "id": "hLly4gyX9OPD",
        "colab_type": "code",
        "colab": {}
      },
      "source": [
        "# Build the model.\n",
        "model = Sequential([\n",
        "  Dense(2048, activation='relu', input_shape=(44,)),\n",
        "  Dense(2, activation='softmax'),\n",
        "])"
      ],
      "execution_count": 0,
      "outputs": []
    },
    {
      "cell_type": "code",
      "metadata": {
        "id": "Ei7F7E1q9rqa",
        "colab_type": "code",
        "colab": {}
      },
      "source": [
        "# Compile the model.\n",
        "model.compile(\n",
        "  optimizer='adam',\n",
        "  loss=\"categorical_crossentropy\",\n",
        "  metrics=['accuracy'],\n",
        ")"
      ],
      "execution_count": 0,
      "outputs": []
    },
    {
      "cell_type": "code",
      "metadata": {
        "id": "401x3BCzNnTk",
        "colab_type": "code",
        "outputId": "2efd9ae9-1380-48df-c13f-d2ed4fa05b84",
        "colab": {
          "base_uri": "https://localhost:8080/",
          "height": 569
        }
      },
      "source": [
        "# Train the model.\n",
        "model.fit(\n",
        "  train_images,\n",
        "  to_categorical(train_labels),\n",
        "  epochs=16,\n",
        "  batch_size=1,\n",
        ")\n"
      ],
      "execution_count": 0,
      "outputs": [
        {
          "output_type": "stream",
          "text": [
            "Epoch 1/16\n",
            "6000/6000 [==============================] - 11s 2ms/step - loss: 0.4938 - accuracy: 0.7678\n",
            "Epoch 2/16\n",
            "6000/6000 [==============================] - 10s 2ms/step - loss: 0.4794 - accuracy: 0.7700\n",
            "Epoch 3/16\n",
            "6000/6000 [==============================] - 10s 2ms/step - loss: 0.4794 - accuracy: 0.7742\n",
            "Epoch 4/16\n",
            "6000/6000 [==============================] - 10s 2ms/step - loss: 0.4715 - accuracy: 0.7733\n",
            "Epoch 5/16\n",
            "6000/6000 [==============================] - 10s 2ms/step - loss: 0.4698 - accuracy: 0.7735\n",
            "Epoch 6/16\n",
            "6000/6000 [==============================] - 10s 2ms/step - loss: 0.4670 - accuracy: 0.7785\n",
            "Epoch 7/16\n",
            "6000/6000 [==============================] - 10s 2ms/step - loss: 0.4647 - accuracy: 0.7758\n",
            "Epoch 8/16\n",
            "6000/6000 [==============================] - 10s 2ms/step - loss: 0.4625 - accuracy: 0.7793\n",
            "Epoch 9/16\n",
            "6000/6000 [==============================] - 10s 2ms/step - loss: 0.4587 - accuracy: 0.7777\n",
            "Epoch 10/16\n",
            "6000/6000 [==============================] - 10s 2ms/step - loss: 0.4562 - accuracy: 0.7827\n",
            "Epoch 11/16\n",
            "6000/6000 [==============================] - 10s 2ms/step - loss: 0.4530 - accuracy: 0.7865\n",
            "Epoch 12/16\n",
            "6000/6000 [==============================] - 10s 2ms/step - loss: 0.4495 - accuracy: 0.7838\n",
            "Epoch 13/16\n",
            "6000/6000 [==============================] - 10s 2ms/step - loss: 0.4483 - accuracy: 0.7887\n",
            "Epoch 14/16\n",
            "6000/6000 [==============================] - 11s 2ms/step - loss: 0.4477 - accuracy: 0.7847\n",
            "Epoch 15/16\n",
            "6000/6000 [==============================] - 10s 2ms/step - loss: 0.4444 - accuracy: 0.7863\n",
            "Epoch 16/16\n",
            "6000/6000 [==============================] - 10s 2ms/step - loss: 0.4423 - accuracy: 0.7897\n"
          ],
          "name": "stdout"
        },
        {
          "output_type": "execute_result",
          "data": {
            "text/plain": [
              "<keras.callbacks.callbacks.History at 0x7f495bf73fd0>"
            ]
          },
          "metadata": {
            "tags": []
          },
          "execution_count": 28
        }
      ]
    },
    {
      "cell_type": "markdown",
      "metadata": {
        "id": "hQFQd9XvTwog",
        "colab_type": "text"
      },
      "source": [
        "### Тестовые результаты предсказания лейблов для первых пяти элементов валидационной выборки"
      ]
    },
    {
      "cell_type": "code",
      "metadata": {
        "id": "XH8lGdAWSw02",
        "colab_type": "code",
        "outputId": "91891037-ffe5-4b28-8d45-9c78e0763f34",
        "colab": {
          "base_uri": "https://localhost:8080/",
          "height": 50
        }
      },
      "source": [
        "test_predictions = model.predict(valid_images[:5])\n",
        "print(f'predicted labels for first 5 images is {np.argmax(test_predictions, axis=1)}')\n",
        "print(f'true labels for first 5 images is {valid_labels[:5]}')"
      ],
      "execution_count": 0,
      "outputs": [
        {
          "output_type": "stream",
          "text": [
            "predicted labels for first 5 images is [0 0 0 0 0]\n",
            "true labels for first 5 images is [0. 0. 0. 0. 0.]\n"
          ],
          "name": "stdout"
        }
      ]
    },
    {
      "cell_type": "markdown",
      "metadata": {
        "id": "Lm-6pb3jT75C",
        "colab_type": "text"
      },
      "source": [
        "### Получим предикт всего валидационного набора."
      ]
    },
    {
      "cell_type": "code",
      "metadata": {
        "id": "q3s3cG62UDTN",
        "colab_type": "code",
        "colab": {}
      },
      "source": [
        "train_pred = np.argmax(model.predict(train_images), axis=1)\n",
        "valid_pred = np.argmax(model.predict(valid_images), axis=1)"
      ],
      "execution_count": 0,
      "outputs": []
    },
    {
      "cell_type": "markdown",
      "metadata": {
        "id": "2tphok3WUZli",
        "colab_type": "text"
      },
      "source": [
        "### Расчитаем F1 score"
      ]
    },
    {
      "cell_type": "code",
      "metadata": {
        "id": "yrspZj1cUXjR",
        "colab_type": "code",
        "colab": {}
      },
      "source": [
        "from sklearn.metrics import classification_report, f1_score"
      ],
      "execution_count": 0,
      "outputs": []
    },
    {
      "cell_type": "code",
      "metadata": {
        "id": "1lCcbaZjUlrw",
        "colab_type": "code",
        "outputId": "b42ae3db-7fb3-43b6-e480-450fc3033a40",
        "colab": {
          "base_uri": "https://localhost:8080/",
          "height": 452
        }
      },
      "source": [
        "print(f'Train_images result is: \\n\\n {classification_report(train_labels, train_pred)}')\n",
        "print(f'OVERALL train F1 is: {(f1_score(train_labels, train_pred).round(5))}\\n\\n')\n",
        "print(f'Valid_images result is: \\n\\n {classification_report(valid_labels, valid_pred)}')\n",
        "print(f'OVERALL valid F1 is: {(f1_score(valid_labels, valid_pred).round(5))}')"
      ],
      "execution_count": 0,
      "outputs": [
        {
          "output_type": "stream",
          "text": [
            "Train_images result is: \n",
            "\n",
            "               precision    recall  f1-score   support\n",
            "\n",
            "         0.0       0.80      0.96      0.87      4310\n",
            "         1.0       0.78      0.38      0.51      1690\n",
            "\n",
            "    accuracy                           0.80      6000\n",
            "   macro avg       0.79      0.67      0.69      6000\n",
            "weighted avg       0.79      0.80      0.77      6000\n",
            "\n",
            "OVERALL train F1 is: 0.50977\n",
            "\n",
            "\n",
            "Valid_images result is: \n",
            "\n",
            "               precision    recall  f1-score   support\n",
            "\n",
            "         0.0       0.77      0.93      0.84      1077\n",
            "         1.0       0.61      0.29      0.39       423\n",
            "\n",
            "    accuracy                           0.75      1500\n",
            "   macro avg       0.69      0.61      0.62      1500\n",
            "weighted avg       0.72      0.75      0.71      1500\n",
            "\n",
            "OVERALL valid F1 is: 0.39103\n"
          ],
          "name": "stdout"
        }
      ]
    },
    {
      "cell_type": "markdown",
      "metadata": {
        "id": "867Tp7DradE0",
        "colab_type": "text"
      },
      "source": [
        "1. train F1 is: 0.45079, valid F1 is: 0.37983\n",
        "2. train F1 is: 0.406, valid F1 is: 0.38406\n",
        "3. train F1 is: 0.51418, valid F1 is: 0.38328\n",
        "4. train F1 is: 0.54007, valid F1 is: 0.48889\n",
        "5. train F1 is: 0.50977, valid F1 is: 0.39103, sub = 0.37699\n"
      ]
    },
    {
      "cell_type": "markdown",
      "metadata": {
        "id": "Gipwge6fjX-8",
        "colab_type": "text"
      },
      "source": [
        "### Предикт класса для тестовой выборки и сохранение результата.\n"
      ]
    },
    {
      "cell_type": "code",
      "metadata": {
        "id": "Q90WuddbjXKG",
        "colab_type": "code",
        "colab": {}
      },
      "source": [
        "test_pred = np.argmax(model.predict(test_images), axis=1)"
      ],
      "execution_count": 0,
      "outputs": []
    },
    {
      "cell_type": "code",
      "metadata": {
        "id": "Pfn6IRdEjpIH",
        "colab_type": "code",
        "colab": {}
      },
      "source": [
        "df_test['id'] = df_test.index + 7500\n",
        "submit_df = pd.DataFrame({'id':df_test['id'], 'Credit Default':test_pred}, dtype=np.int32)\n",
        "submit_df.to_csv('/content/drive/My Drive/Введение в нейронные сети/Курсовой проект/Evdokimov_predictions_1.csv', index=False)\n",
        "df_test = df_test.drop('id', axis=1)"
      ],
      "execution_count": 0,
      "outputs": []
    },
    {
      "cell_type": "markdown",
      "metadata": {
        "id": "i6LZdy_df_ei",
        "colab_type": "text"
      },
      "source": [
        "#! \n",
        "### Заметка\n",
        "\n",
        "В официальной документации по функциям потерь для функции categorical_crossentropy указано, что ее лучше использовать для лейблов закодированных в one-hot, в иных случаях лучше использовать SparseCategoricalCrossentropy. Так же для двух лейблов лучше использовать бинарную кроссэнтропию.\n",
        "В действительности же мы имеем лучший скор с функцией categorical_crossentropy, где лейблы не закодированны, а представленны в виде int."
      ]
    },
    {
      "cell_type": "markdown",
      "metadata": {
        "id": "pH4edhh6a2Ps",
        "colab_type": "text"
      },
      "source": [
        "# TODO:\n",
        "- Балансировка классов (попробовать наконец tomek links)\n",
        "- сделать лог результатов и параметров в текстовый документ для воспроизводимости"
      ]
    }
  ]
}