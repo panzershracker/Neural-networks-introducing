{
  "nbformat": 4,
  "nbformat_minor": 0,
  "metadata": {
    "colab": {
      "name": "HW 7.ipynb",
      "provenance": [],
      "collapsed_sections": [],
      "authorship_tag": "ABX9TyM8MPaAXWCRk+B6NcpsOEb6",
      "include_colab_link": true
    },
    "kernelspec": {
      "name": "python3",
      "display_name": "Python 3"
    }
  },
  "cells": [
    {
      "cell_type": "markdown",
      "metadata": {
        "id": "view-in-github",
        "colab_type": "text"
      },
      "source": [
        "<a href=\"https://colab.research.google.com/github/panzershracker/Neural-networks-introducing/blob/master/HW_7.ipynb\" target=\"_parent\"><img src=\"https://colab.research.google.com/assets/colab-badge.svg\" alt=\"Open In Colab\"/></a>"
      ]
    },
    {
      "cell_type": "code",
      "metadata": {
        "id": "-Rgn5u1KROdP",
        "colab_type": "code",
        "colab": {}
      },
      "source": [
        ""
      ],
      "execution_count": 0,
      "outputs": []
    },
    {
      "cell_type": "markdown",
      "metadata": {
        "id": "Yq0HgKJARnh-",
        "colab_type": "text"
      },
      "source": [
        "#RetinaNet\n",
        "\n",
        "В качестве альтернативной архитектуры вырал RetinaNet.\n",
        "Не то чтобы она для меня чем то выделалялась, но все основные виды мы разобрали на уроке.\n",
        "\n",
        "Итак, дальнейший текст будет интерпретацией моего понимания статьи с towardsdatascience.com, ссылка на оригинал будет в конце.\n",
        "\n",
        "Основные cons and pros:\n",
        "\n",
        "Плюсы:\n",
        "\n",
        "+ Данная урхитектура имеет достаточно высокую скорость работы вкупе с хорошим показателем точности.\n",
        "\n",
        "+ Имеет высокую точность за счет функции focal loss(Если верно понял, то она  добавляет отрицательные примеры, и потеря фокусируется \"на жестких\" примерах (\"hard samples\" - что бы это значило?), что и обеспечивает повышение точности.\n",
        "\n",
        "+ RetinaNet превосходит в скорости SSD, DSSD, R-FCN, FPN, кроме YOLOv2, который нацелен на высокую частоту кадров.\n",
        "\n",
        "Минусы:\n",
        "\n",
        "- Имеет один уровень детекции (one-stage detection*), и, все же, уступает в точности двухуровневым моделям.\n",
        "\n",
        "\n",
        "*One-stage подходы, в отличие от two-stage, не используют отдельный алгоритм для генерации боксов, а просто предсказывают несколько координат боксов для каждого feature map’а, выданного свёрточной нейросетью. Подобным образом действует YOLO, SSD слегка отличается, но идея одна: 1х1 свёртка предсказывает из полученных feature map’ов много чисел по глубине, однако мы заранее договариваемся, какое число что значит.\n",
        "\n",
        "\n",
        "+ В данной сети используется бэкбон *ResNet + FPN*.\n",
        "\n",
        "+ Сравнение кол-ва баундинг боксов с другими сетями:\n",
        "\n",
        "  Number of Boxes Comparison:\n",
        "  - YOLOv1: 98 boxes\n",
        "  - YOLOv2: ~1k\n",
        "  - OverFeat: ~1–2k\n",
        "  - SSD: ~8–26k\n",
        "  - RetinaNet: ~100k. RetinaNet can have ~100k boxes with the resolve of class imbalance problem using focal loss.\n",
        "\n",
        "Вывод:\n",
        "\n",
        "Это мое понимание статьи, и, оно может быть ошибочным.\n",
        "В любом случае - на данном этапе обучения и уровне знаний тяжело оценивать архитектуры по производительности, скорости, плюсам и минусам, тк имеем достаточно поверхностное понимание что это такое.\n",
        "\n",
        "Ссылка на оригинал:\n",
        "\n",
        "https://towardsdatascience.com/review-retinanet-focal-loss-object-detection-38fba6afabe4"
      ]
    },
    {
      "cell_type": "code",
      "metadata": {
        "id": "j39YTus1cKc8",
        "colab_type": "code",
        "colab": {}
      },
      "source": [
        ""
      ],
      "execution_count": 0,
      "outputs": []
    }
  ]
}