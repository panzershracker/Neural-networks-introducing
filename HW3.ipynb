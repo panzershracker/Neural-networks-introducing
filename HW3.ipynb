{
  "nbformat": 4,
  "nbformat_minor": 0,
  "metadata": {
    "colab": {
      "name": "HW3.ipynb",
      "provenance": [],
      "private_outputs": true,
      "collapsed_sections": [],
      "include_colab_link": true
    },
    "kernelspec": {
      "display_name": "Python 3",
      "language": "python",
      "name": "python3"
    },
    "language_info": {
      "codemirror_mode": {
        "name": "ipython",
        "version": 3
      },
      "file_extension": ".py",
      "mimetype": "text/x-python",
      "name": "python",
      "nbconvert_exporter": "python",
      "pygments_lexer": "ipython3",
      "version": "3.7.7"
    }
  },
  "cells": [
    {
      "cell_type": "markdown",
      "metadata": {
        "id": "view-in-github",
        "colab_type": "text"
      },
      "source": [
        "<a href=\"https://colab.research.google.com/github/panzershracker/Neural-networks-introducing/blob/master/HW3.ipynb\" target=\"_parent\"><img src=\"https://colab.research.google.com/assets/colab-badge.svg\" alt=\"Open In Colab\"/></a>"
      ]
    },
    {
      "cell_type": "markdown",
      "metadata": {
        "id": "ao1ELXxn6jYa",
        "colab_type": "text"
      },
      "source": [
        "# Введение в искусственные нейронные сети\n",
        "# Урок 3. TensorFlow"
      ]
    },
    {
      "cell_type": "markdown",
      "metadata": {
        "id": "tIv8HtTr6jYc",
        "colab_type": "text"
      },
      "source": [
        "## Содержание методического пособия:\n",
        "\n",
        "\n",
        "<ol>\n",
        "<li>Что такое TensorFlow</li>\n",
        "<li>Основы синтаксиса TensorFlow</li>\n",
        "<li>Пример нейросети на TensorFlow</li>\n",
        "</ol>"
      ]
    },
    {
      "cell_type": "markdown",
      "metadata": {
        "id": "v12Wki7k6jYd",
        "colab_type": "text"
      },
      "source": [
        "## Что такое TensorFlow\n",
        "\n",
        "TensorFlow - это фреймворк для создания ML моделей. TensorFlow предназначен в первую очередь для Deep Learning, т.е. создания современных нейросетей. Однако в TensorFlow также есть поддержка некоторых классических ML алгоритмов: K-means clustering, Random Forests, Support Vector Machines, Gaussian Mixture Model clustering, Linear/logistic regression.\n",
        "\n",
        "TensorFlow выпустила компания Google в 2015. TensorFlow - это opensource проект. На данный момент это один из основных инструментов для создания нейросетей в рабочих целях. TensorFlow позволяет создавать нейронные сети как для кластеров из большого количества вычислительных устройств, так и для устройств с относительно небольшой вычислитей мощностью, таких как смартфоны и одноплатные компьютеры.\n",
        "\n",
        "TensorFlow применяется самой компанией Google для ее поиска, почты, переводчика, распознования голоса, внутренних нужд наподобие мониторинга оборудования. TensorFlow используется различными компаниями для различных проектов связанных с компьютерным зрением, решением задач ранжирования и т.д.\n"
      ]
    },
    {
      "cell_type": "markdown",
      "metadata": {
        "id": "SKgzrYee6jYd",
        "colab_type": "text"
      },
      "source": [
        "## Основы синтаксиса TensorFlow\n",
        "\n",
        "Процесс создания нейросети на TensorFlow схож с разобранным нами процессом обучения нейросети на Keras. Отличее здесь в том, что здесь нам нужно прописать больше деталей в коде. \n",
        "\n",
        "Название TensorFlow означает поток тензоров. Тензоры - это массивы. Данные в компьютере предствлены часто в виде массивах и работа с этими массивами подразумевает их преобразования. Преобразования осуществляются через, к примеру, математические операции. Работа TensorFlow складывается из цепочки преобразований тензоров, т.е. данных. Сами операции осуществляющие преобразование данных представлены в TensorFlow в виде графов. Особенностью TensorFlow версии 1 является то, что сначала необходимо декларировать переменные и вычисления, которые будут совершенны над ними, а потом уже непосредственно запускать работу над данными. "
      ]
    },
    {
      "cell_type": "markdown",
      "metadata": {
        "id": "HPr9KiSa6jYe",
        "colab_type": "text"
      },
      "source": [
        "Давайте рассмотрим базовые вещи в синтаксисе Tensorflow 2."
      ]
    },
    {
      "cell_type": "markdown",
      "metadata": {
        "id": "KS5BYUnE6jYf",
        "colab_type": "text"
      },
      "source": [
        "Выведем строку Hello world, а также версию tensorflow"
      ]
    },
    {
      "cell_type": "code",
      "metadata": {
        "id": "dOykoK9A6jYg",
        "colab_type": "code",
        "colab": {}
      },
      "source": [
        "import tensorflow as tf\n",
        "print(tf.__version__)\n",
        "msg = tf.constant('TensorFlow 2.0 Hello World')\n",
        "tf.print(msg)"
      ],
      "execution_count": 0,
      "outputs": []
    },
    {
      "cell_type": "markdown",
      "metadata": {
        "id": "nTj2WA2A6jYl",
        "colab_type": "text"
      },
      "source": [
        "Пример создания тензора - "
      ]
    },
    {
      "cell_type": "code",
      "metadata": {
        "id": "5jaA1Pi-6jYm",
        "colab_type": "code",
        "colab": {}
      },
      "source": [
        "A = tf.constant([[3, 2], \n",
        "                 [5, 2]])\n",
        "\n",
        "print(A)"
      ],
      "execution_count": 0,
      "outputs": []
    },
    {
      "cell_type": "markdown",
      "metadata": {
        "id": "jaUMzmmy6jYq",
        "colab_type": "text"
      },
      "source": [
        "Приме сложения тензеров - "
      ]
    },
    {
      "cell_type": "code",
      "metadata": {
        "id": "KhN6GU8s6jYr",
        "colab_type": "code",
        "colab": {}
      },
      "source": [
        "B = tf.constant([[9, 5], \n",
        "                 [1, 3]])\n",
        "\n",
        "AB = tf.concat(values=[A, B], axis=1)\n",
        "print(AB.numpy())"
      ],
      "execution_count": 0,
      "outputs": []
    },
    {
      "cell_type": "markdown",
      "metadata": {
        "id": "iF-D4Zew6jYv",
        "colab_type": "text"
      },
      "source": [
        "Пример изменения размерности тензора - "
      ]
    },
    {
      "cell_type": "code",
      "metadata": {
        "id": "ulMpL1CJ6jYw",
        "colab_type": "code",
        "colab": {}
      },
      "source": [
        "tensor = tf.constant([[3, 2], \n",
        "                      [5, 2], \n",
        "                      [9, 5], \n",
        "                      [1, 3]])\n",
        "\n",
        "resh_tensor = tf.reshape(tensor = tensor, shape = [1, 8]) \n",
        "\n",
        "print(f'BEFORE {tensor.numpy()}')\n",
        "print(f'AFTER {resh_tensor.numpy()}')"
      ],
      "execution_count": 0,
      "outputs": []
    },
    {
      "cell_type": "markdown",
      "metadata": {
        "id": "EMFU0-PP6jY0",
        "colab_type": "text"
      },
      "source": [
        "Пример умножения матриц, одной из самых частых операций в машинном обучении - "
      ]
    },
    {
      "cell_type": "code",
      "metadata": {
        "id": "fSdrtYRc6jY1",
        "colab_type": "code",
        "colab": {}
      },
      "source": [
        "A = tf.constant([[3, 7], \n",
        "                 [1, 9]])\n",
        "\n",
        "\n",
        "B = tf.constant([[10, 10],\n",
        "                 [1000, 1000]])\n",
        "\n",
        "AB = tf.multiply(A, B)\n",
        "print(AB)\n"
      ],
      "execution_count": 0,
      "outputs": []
    },
    {
      "cell_type": "markdown",
      "metadata": {
        "id": "DWgNN_pf6jY7",
        "colab_type": "text"
      },
      "source": [
        "Функции tensorflow призваны ускорить вычисления, давайте посмотрим на следующий пример - "
      ]
    },
    {
      "cell_type": "markdown",
      "metadata": {
        "colab_type": "text",
        "id": "jYysdyb-CaWM"
      },
      "source": [
        "# Классификация изображений одежды"
      ]
    },
    {
      "cell_type": "markdown",
      "metadata": {
        "colab_type": "text",
        "id": "FbVhjPpzn6BM"
      },
      "source": [
        "Давайте разберем использование tensorflow 2 на примере датасета с одеждой. В это датасете будут находиться маленькие изображения на белом фоне, такие как кросовки, футболки и прочее.\n",
        "\n",
        "В данном случае мы будем использовать High API от TensorFlow"
      ]
    },
    {
      "cell_type": "code",
      "metadata": {
        "colab_type": "code",
        "id": "dzLKpmZICaWN",
        "colab": {}
      },
      "source": [
        "from __future__ import absolute_import, division, print_function, unicode_literals\n",
        "\n",
        "# TensorFlow and tf.keras\n",
        "import tensorflow as tf\n",
        "from tensorflow import keras\n",
        "\n",
        "# Helper libraries\n",
        "import numpy as np\n",
        "import matplotlib.pyplot as plt\n",
        "\n",
        "print(tf.__version__)"
      ],
      "execution_count": 0,
      "outputs": []
    },
    {
      "cell_type": "markdown",
      "metadata": {
        "colab_type": "text",
        "id": "yR0EdgrLCaWR"
      },
      "source": [
        "## Импортируем Fashion MNIST датасет"
      ]
    },
    {
      "cell_type": "markdown",
      "metadata": {
        "colab_type": "text",
        "id": "DLdCchMdCaWQ"
      },
      "source": [
        "Мы будет использовать следующий датасет -  [Fashion MNIST](https://github.com/zalandoresearch/fashion-mnist) Этот датасет содержит 70,000 черно-белых изображений в 10 категориях. Изображения имеют разрешение 28x28 пикселей.\n",
        "\n",
        "<table>\n",
        "  <tr><td>\n",
        "    <img src=\"https://tensorflow.org/images/fashion-mnist-sprite.png\"\n",
        "         alt=\"Fashion MNIST sprite\"  width=\"600\">\n",
        "  </td></tr>\n",
        "  <tr><td align=\"center\">\n",
        "    <b>Figure 1.</b> <a href=\"https://github.com/zalandoresearch/fashion-mnist\">Fashion-MNIST samples</a> (by Zalando, MIT License).<br/>&nbsp;\n",
        "  </td></tr>\n",
        "</table>\n",
        "\n",
        "Долгое время в машинном обучение для программ Hello world использовался датасет MNIST с рукописными цифрами. Данный датасет призван несколько усложнить задачу распознования но также подходит в качестве программы Hello world.\n",
        "\n",
        "В этом датасете 60 000 тренировочных изображений и 10 000 тестовых."
      ]
    },
    {
      "cell_type": "code",
      "metadata": {
        "colab_type": "code",
        "id": "7MqDQO0KCaWS",
        "colab": {}
      },
      "source": [
        "fashion_mnist = keras.datasets.fashion_mnist\n",
        "\n",
        "(train_images, train_labels), (test_images, test_labels) = fashion_mnist.load_data()"
      ],
      "execution_count": 0,
      "outputs": []
    },
    {
      "cell_type": "markdown",
      "metadata": {
        "colab_type": "text",
        "id": "t9FDsUlxCaWW"
      },
      "source": [
        "Датасет содержит следующие классы:\n",
        "\n",
        "<table>\n",
        "  <tr>\n",
        "    <th>Label</th>\n",
        "    <th>Class</th>\n",
        "  </tr>\n",
        "  <tr>\n",
        "    <td>0</td>\n",
        "    <td>T-shirt/top</td>\n",
        "  </tr>\n",
        "  <tr>\n",
        "    <td>1</td>\n",
        "    <td>Trouser</td>\n",
        "  </tr>\n",
        "    <tr>\n",
        "    <td>2</td>\n",
        "    <td>Pullover</td>\n",
        "  </tr>\n",
        "    <tr>\n",
        "    <td>3</td>\n",
        "    <td>Dress</td>\n",
        "  </tr>\n",
        "    <tr>\n",
        "    <td>4</td>\n",
        "    <td>Coat</td>\n",
        "  </tr>\n",
        "    <tr>\n",
        "    <td>5</td>\n",
        "    <td>Sandal</td>\n",
        "  </tr>\n",
        "    <tr>\n",
        "    <td>6</td>\n",
        "    <td>Shirt</td>\n",
        "  </tr>\n",
        "    <tr>\n",
        "    <td>7</td>\n",
        "    <td>Sneaker</td>\n",
        "  </tr>\n",
        "    <tr>\n",
        "    <td>8</td>\n",
        "    <td>Bag</td>\n",
        "  </tr>\n",
        "    <tr>\n",
        "    <td>9</td>\n",
        "    <td>Ankle boot</td>\n",
        "  </tr>\n",
        "</table>\n",
        "\n",
        "Каждому классу обозначенному цифрой мы можем присвоить текстовое значение -"
      ]
    },
    {
      "cell_type": "code",
      "metadata": {
        "colab_type": "code",
        "id": "IjnLH5S2CaWx",
        "colab": {}
      },
      "source": [
        "class_names = ['T-shirt/top', 'Trouser', 'Pullover', 'Dress', 'Coat',\n",
        "               'Sandal', 'Shirt', 'Sneaker', 'Bag', 'Ankle boot']"
      ],
      "execution_count": 0,
      "outputs": []
    },
    {
      "cell_type": "markdown",
      "metadata": {
        "colab_type": "text",
        "id": "Brm0b_KACaWX"
      },
      "source": [
        "## Анализ датасета \n",
        "\n",
        "Давайте посмотрим структуры полученного массива данных:"
      ]
    },
    {
      "cell_type": "code",
      "metadata": {
        "colab_type": "code",
        "id": "zW5k_xz1CaWX",
        "colab": {}
      },
      "source": [
        "train_images.shape"
      ],
      "execution_count": 0,
      "outputs": []
    },
    {
      "cell_type": "code",
      "metadata": {
        "colab_type": "code",
        "id": "TRFYHB2mCaWb",
        "colab": {}
      },
      "source": [
        "len(train_labels)"
      ],
      "execution_count": 0,
      "outputs": []
    },
    {
      "cell_type": "code",
      "metadata": {
        "colab_type": "code",
        "id": "XKnCTHz4CaWg",
        "colab": {}
      },
      "source": [
        "train_labels"
      ],
      "execution_count": 0,
      "outputs": []
    },
    {
      "cell_type": "markdown",
      "metadata": {
        "colab_type": "text",
        "id": "TMPI88iZpO2T"
      },
      "source": [
        "Проанализируем тестовую выборку:"
      ]
    },
    {
      "cell_type": "code",
      "metadata": {
        "colab_type": "code",
        "id": "2KFnYlcwCaWl",
        "colab": {}
      },
      "source": [
        "test_images.shape"
      ],
      "execution_count": 0,
      "outputs": []
    },
    {
      "cell_type": "code",
      "metadata": {
        "colab_type": "code",
        "id": "iJmPr5-ACaWn",
        "colab": {}
      },
      "source": [
        "len(test_labels)"
      ],
      "execution_count": 0,
      "outputs": []
    },
    {
      "cell_type": "markdown",
      "metadata": {
        "colab_type": "text",
        "id": "ES6uQoLKCaWr"
      },
      "source": [
        "## Preprocess the data\n",
        "\n",
        "Давайте взглянем на конкретный пример изображений с помощью matplotlib:"
      ]
    },
    {
      "cell_type": "code",
      "metadata": {
        "colab_type": "code",
        "id": "m4VEw8Ud9Quh",
        "colab": {}
      },
      "source": [
        "plt.figure()\n",
        "plt.imshow(train_images[0])\n",
        "plt.colorbar()\n",
        "plt.grid(False)\n",
        "plt.show()"
      ],
      "execution_count": 0,
      "outputs": []
    },
    {
      "cell_type": "markdown",
      "metadata": {
        "colab_type": "text",
        "id": "Wz7l27Lz9S1P"
      },
      "source": [
        "Для процесса обучения нейронной сети нам важно перевести данные из диапазона от 0 до 255 в диапазон от 0 до 1:"
      ]
    },
    {
      "cell_type": "code",
      "metadata": {
        "colab_type": "code",
        "id": "bW5WzIPlCaWv",
        "colab": {}
      },
      "source": [
        "train_images = train_images / 255.0\n",
        "\n",
        "test_images = test_images / 255.0"
      ],
      "execution_count": 0,
      "outputs": []
    },
    {
      "cell_type": "markdown",
      "metadata": {
        "colab_type": "text",
        "id": "Ee638AlnCaWz"
      },
      "source": [
        "Посмотрим первые 25 изображений:"
      ]
    },
    {
      "cell_type": "code",
      "metadata": {
        "colab_type": "code",
        "id": "oZTImqg_CaW1",
        "colab": {}
      },
      "source": [
        "plt.figure(figsize=(10,10))\n",
        "for i in range(25):\n",
        "    plt.subplot(5,5,i+1)\n",
        "    plt.xticks([])\n",
        "    plt.yticks([])\n",
        "    plt.grid(False)\n",
        "    plt.imshow(train_images[i], cmap=plt.cm.binary)\n",
        "    plt.xlabel(class_names[train_labels[i]])\n",
        "plt.show()"
      ],
      "execution_count": 0,
      "outputs": []
    },
    {
      "cell_type": "markdown",
      "metadata": {
        "colab_type": "text",
        "id": "59veuiEZCaW4"
      },
      "source": [
        "## Построение модели\n",
        "\n",
        "Построение нейронной сети подразумевает конфигурацию ее слоев и последующую компиляцию."
      ]
    },
    {
      "cell_type": "markdown",
      "metadata": {
        "colab_type": "text",
        "id": "Gxg1XGm0eOBy"
      },
      "source": [
        "### Определение слоев\n",
        "\n",
        "Давайте создадим 3 слоя нейронной сети с помощью функционала Keras.layers"
      ]
    },
    {
      "cell_type": "code",
      "metadata": {
        "id": "DkKth7slDert",
        "colab_type": "code",
        "colab": {}
      },
      "source": [
        "tf.random.set_seed(42)"
      ],
      "execution_count": 0,
      "outputs": []
    },
    {
      "cell_type": "code",
      "metadata": {
        "colab_type": "code",
        "id": "9ODch-OFCaW4",
        "colab": {}
      },
      "source": [
        "model = keras.Sequential([\n",
        "    keras.layers.Flatten(input_shape=(28, 28)),\n",
        "    keras.layers.Dense(700, activation='relu'),\n",
        "    keras.layers.Dense(600, activation='relu'),\n",
        "    keras.layers.Dense(500, activation='relu'),\n",
        "    keras.layers.Dense(400, activation='relu'),\n",
        "    keras.layers.Dense(300, activation='relu'),\n",
        "    keras.layers.Dense(200, activation='relu'),\n",
        "    keras.layers.Dense(100, activation='relu'),\n",
        "    keras.layers.Dense(50, activation='relu'),\n",
        "    keras.layers.Dense(10)\n",
        "])"
      ],
      "execution_count": 0,
      "outputs": []
    },
    {
      "cell_type": "markdown",
      "metadata": {
        "colab_type": "text",
        "id": "gut8A_7rCaW6"
      },
      "source": [
        "Первый слой, `tf.keras.layers.Flatten`, трасформирует двумерный массив на входе в одномерный массив.\n",
        "\n",
        "Получившиеся 784(28 x 28) входных нейрона присоединяем к полносвязному слою из 128 нейронов , которые будут использовать функцию активации relu. В выходном слое будет 10 нейронов, по числу классов, которые он должен предсказывать. В нем будет использоваться функция активации softmax и он будет давать предсказание от 0 до 1, где 1 это стопроцентная вероятность.\n",
        "\n",
        "### Компиляция модели\n",
        "\n",
        "Давайте вспомним ключевые понятия, которые нам понадобяться при компиляции:\n",
        "\n",
        "* *Loss function* — меряет как точно работает нейросеть.\n",
        "* *Optimizer* — определяет способ корректировки весов.\n",
        "* *Metrics* — определяет за какие характеристики будут отражаться в процессе обучения."
      ]
    },
    {
      "cell_type": "code",
      "metadata": {
        "colab_type": "code",
        "id": "Lhan11blCaW7",
        "colab": {}
      },
      "source": [
        "model.compile(optimizer='adam',\n",
        "              loss=tf.keras.losses.SparseCategoricalCrossentropy(from_logits=True),\n",
        "              metrics=['accuracy'])"
      ],
      "execution_count": 0,
      "outputs": []
    },
    {
      "cell_type": "markdown",
      "metadata": {
        "colab_type": "text",
        "id": "qKF6uW-BCaW-"
      },
      "source": [
        "## Тренировка модели\n",
        "\n",
        "Здесь все стандартно - данные передаются в нейросеть и сопоставляются изображения и лейблы.\n",
        "\n"
      ]
    },
    {
      "cell_type": "markdown",
      "metadata": {
        "colab_type": "text",
        "id": "Z4P4zIV7E28Z"
      },
      "source": [
        "### Передача данных в модель\n",
        "\n",
        "Команда непосредственно запускающая процесс обучения называется - `model.fit`:"
      ]
    },
    {
      "cell_type": "code",
      "metadata": {
        "colab_type": "code",
        "id": "xvwvpA64CaW_",
        "colab": {}
      },
      "source": [
        "model.fit(train_images, train_labels, epochs=1, batch_size=2000)"
      ],
      "execution_count": 0,
      "outputs": []
    },
    {
      "cell_type": "code",
      "metadata": {
        "colab_type": "code",
        "id": "VflXLEeECaXC",
        "colab": {}
      },
      "source": [
        "test_loss, test_acc = model.evaluate(test_images,  test_labels, verbose=2)\n",
        "\n",
        "print('\\nTest accuracy:', np.round(test_acc,  4))"
      ],
      "execution_count": 0,
      "outputs": []
    },
    {
      "cell_type": "markdown",
      "metadata": {
        "id": "jbaVGJ-YEoO5",
        "colab_type": "text"
      },
      "source": [
        "# Results:\n",
        "\n",
        "!Не знаю сделал ли верно, но пытался зафиксировать рандомизацию путем **tf.random.set_seed(42)**\n",
        "- базовая настройка = loss: 0.3843 - accuracy: **0.8610**\n",
        "- добавление нового слоя + softmax = loss: 1.6675 - accuracy: **0.7936**\n",
        "- два слоя elu без softmax = loss: 0.3745 - accuracy: **0.8634**\n",
        "- 4 промежуточных слоя с воронкообразным кол-вом нейронов, ф-ция softplus, 1 эпоха, батч 128 = loss: 0.3352 - accuracy: **0.8844**\n",
        "- То же самое, но батч 500, 5 эпох = loss: 0.3157 - accuracy: **0.8906**\n",
        "- то же самое, но батч 2000, 1 эпоха = loss: 0.3070 - accuracy: **0.8962**"
      ]
    },
    {
      "cell_type": "markdown",
      "metadata": {
        "id": "4h5gGTFTFPK5",
        "colab_type": "text"
      },
      "source": [
        "#Вывод:\n",
        "  - Единственный вывод который я сделал - функция активации в выходном слое данной модели ухудшает результат.\n"
      ]
    },
    {
      "cell_type": "markdown",
      "metadata": {
        "id": "8XOVFGTo6jbH",
        "colab_type": "text"
      },
      "source": [
        "## Практическое задание\n",
        "\n",
        "<ol>\n",
        "    <li>Попробуйте обучить нейронную сеть на TensorFlow 2 на любом датасете imdb_reviews. \n",
        "        Опишите в комментарии к уроку - какой результата вы добились от нейросети? Что помогло вам улучшить ее точность?<br><br>\n",
        "    </li>\n",
        "    <li>*2. Поработайте с документацией TensorFlow 2. Найдите полезные команды не разобранные на уроке.</li>\n",
        "    \n",
        "    \n",
        "</ol>"
      ]
    }
  ]
}