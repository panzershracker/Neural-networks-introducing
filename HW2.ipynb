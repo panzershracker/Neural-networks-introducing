{
  "nbformat": 4,
  "nbformat_minor": 0,
  "metadata": {
    "kernelspec": {
      "display_name": "Python 3",
      "language": "python",
      "name": "python3"
    },
    "language_info": {
      "codemirror_mode": {
        "name": "ipython",
        "version": 3
      },
      "file_extension": ".py",
      "mimetype": "text/x-python",
      "name": "python",
      "nbconvert_exporter": "python",
      "pygments_lexer": "ipython3",
      "version": "3.7.7"
    },
    "colab": {
      "name": "metodich2.ipynb",
      "provenance": [],
      "collapsed_sections": [],
      "include_colab_link": true
    }
  },
  "cells": [
    {
      "cell_type": "markdown",
      "metadata": {
        "id": "view-in-github",
        "colab_type": "text"
      },
      "source": [
        "<a href=\"https://colab.research.google.com/github/panzershracker/Neural-networks-introducing/blob/master/HW2.ipynb\" target=\"_parent\"><img src=\"https://colab.research.google.com/assets/colab-badge.svg\" alt=\"Open In Colab\"/></a>"
      ]
    },
    {
      "cell_type": "markdown",
      "metadata": {
        "id": "rxUdvMEJpTaL",
        "colab_type": "text"
      },
      "source": [
        "# Введение в искусственные нейронные сети\n",
        "# Урок 3. Keras"
      ]
    },
    {
      "cell_type": "markdown",
      "metadata": {
        "id": "bd858x-gpTaN",
        "colab_type": "text"
      },
      "source": [
        "## Содержание методического пособия:\n",
        "\n",
        "\n",
        "<ol>\n",
        "<li>Способы создания нейросетей</li>\n",
        "<li>Что такое Keras</li>\n",
        "<li>Основы синтаксиса</li>\n",
        "<li>Простая нейросеть на Keras</li>\n",
        "</ol>"
      ]
    },
    {
      "cell_type": "markdown",
      "metadata": {
        "id": "bXWkZPIupTaO",
        "colab_type": "text"
      },
      "source": [
        "## Способы создания нейросетей\n",
        "\n",
        "Нейросети это математические модели. Программирую на любом языке можно решать задачи связанные с математикой. Однако встает вопрос какой язык подойдет для этого больше? Не считая учебных нейросетей, нейросети как правило работают с большим количеством данных. Поэтому, чтобы обучение нейросетей происходило с приемлимой скоростью нужно использовать быстрый язык. Например Си. Но так как язык Си это язык с низким уровнем абстракции то программировать и модифицировать на нем нейросети было бы крайне затруднительно. \n",
        "\n",
        "Хорошо может подойти для этих целей язык Python. Так как он с одной стороны имеет высокий уровень абстракции с другой стороны операции с массивами данных могут сделать его библиотеки написанные на Си. Таким способом мы пользовались на первых 2 уроках. Однако если писать нейросети таким образом то будет много повторяющегося кода поскольку архитектуры нейросетей остаются одинаковыми и зачастую у них только меняются параметры. Кроме этого нам может понадобиться хорошо знать архитектуры самых разных нейронных сетей чтобы реализовать их вручную. Работа таким образом затруднительна для людей не имеющих достаточной подготовки, а для имеющих может быть нааборот рутиной.\n",
        "\n",
        "Существуют фреймворки для созданий нейронных сетей. Они являются, пожалуй основным рабочим способом создания нейронных сетей. Вот их неполный перечень:\n",
        "\n",
        "1. TensorFlow\n",
        "2. PyTorch\n",
        "3. Keras\n",
        "4. Microsoft Cognitive Toolkit (CNTK)\n",
        "5. Caffe\n",
        "6. Apache MXNet\n",
        "\n",
        "Упрощение создания нейронных сетей не заканчивается на этих фрейворках. Существуют инструменты которые позволяют создавать нейронные сети без навыков программирования, строя нейросети графически. Примеры: Neural Designer, Deep Learning Studio.\n",
        "\n",
        "Но и на этом не заканчиваются способы создания нейросетей. Существуют инструменты самостоятельно создающие нейронные сети. Это так называемые AutoML инструменты. Вот примеры популярных из них:\n",
        "1. MLBox\n",
        "2. TPOT\n",
        "3. Autokeras\n",
        "\n",
        "Как вы возможно заметили что все эти инструменты отранжированы походы изложения в порядке возрастания уровня абстракции. Соответсвенно говоря о плюсах минусах того или иного инструмента мы должны понимать в принципе плюсы минусы повышения уровня абстракции. Чем он выше тем меньше производительность и тем меньше его гибкость и набоорот.\n",
        "\n",
        "Как уже было сказано наиболее востребованных в рабочих целях является тот уровень абстракции, который дают фреймворки. Будем изучать дальше и пользовать ими. Остается сделать выбор среди них. Самый популярный фреймворк для создания нейросетей TensorFlow. Самый популярный для обучения - Keras. На этом уроке мы изучим с вами Keras, а на следующим TensorFlow. Также стоит отметить, что эти фреймворки взаимосвязаны - Keras как правило работает поверх TensorFlow, а сам TensorFlow позволяет пользовать средствами Keras при необходимости.\n"
      ]
    },
    {
      "cell_type": "markdown",
      "metadata": {
        "id": "DjJ2TjBMpTaP",
        "colab_type": "text"
      },
      "source": [
        "## Что такое Keras\n",
        "\n",
        "Keras появился относительно недавно - в 2015 г. Но за это время стал одним из самых популярных фреймоворков для создания нейросетей и фактически стандартом для использования его начинающими.\n",
        "\n",
        "В чем причина его популярности? Keras позволяет создовать на высоком уровне абстракции. Т.е. на не нужно вручную реализовать с помощью математикаподобного кода те или иные элементы нейронной сети. Мы можем оперировать слоями, количеством нейронов в них, выбором функции активации и т.д. В тоже время keras содержит инструментарий для всего того, что может понадобиться для работы - например ряд встроенных датасетов, возможность обрабатывать изображения.\n",
        "\n",
        "В техническом плане Keras это оболочка над инструментами меньшей степени абстракции. На выбор он может работать поверх TensorFlow, Microsoft Cognitive Toolkit, R, Theano, PlaidML.\n",
        "\n",
        "Keras пользуется также на соревнованиях Kaggle.\n",
        "\n",
        "Однако стоит отметить, что в реальных проектах чаще используется TensorFlow, который мы будем изучать в след. уроках.\n",
        "\n",
        "Keras как и любой высокобастрактный инструмент имеет изъяны в качестве меньшей гибкостью и производительснотью чем тот же tensorflow.\n",
        "\n",
        "Стоит также отметить, что Google официально поддерживает Keras, его автор François Chollet, является сотрудником Google. TensorFlow сам в свою очередь позволяет использовать возможности Keras, т.е. в нем заложена возможность переходить на более высокой уровень абстракции.\n",
        "\n",
        "В данном уроке мы с вами рассмотрим пример обучения нейронной сети с помощью Keras. Но прежде давайте посмотрим на основы синтаксиса Keras и стандартные задачи, которые нужно выполнить при обучении нейронной сети."
      ]
    },
    {
      "cell_type": "markdown",
      "metadata": {
        "id": "2GEtAzwcpTaQ",
        "colab_type": "text"
      },
      "source": [
        "## Основы синтаксиса"
      ]
    },
    {
      "cell_type": "markdown",
      "metadata": {
        "id": "pnC23L_QpTaR",
        "colab_type": "text"
      },
      "source": [
        "**Установка и работа с данными**"
      ]
    },
    {
      "cell_type": "markdown",
      "metadata": {
        "id": "kTZjtSZ9pTaR",
        "colab_type": "text"
      },
      "source": [
        "Для начала необходимо установить keras. Надо полагать вы хорошо знакомы с командой pip."
      ]
    },
    {
      "cell_type": "markdown",
      "metadata": {
        "id": "956EscilpTaS",
        "colab_type": "text"
      },
      "source": [
        "sudo python3 pip install keras"
      ]
    },
    {
      "cell_type": "markdown",
      "metadata": {
        "id": "kJIFaW10pTaT",
        "colab_type": "text"
      },
      "source": [
        "Давайте попробуем получить датасет mnist и проанализировать его содержимое.\n",
        "Это еще не будет синтаксис Keras, но это часто встречающаяся задача. Не обращайте внимание на предупреждения от TensorFlow. Их часто бывает много и их можно подавить при необходимости."
      ]
    },
    {
      "cell_type": "markdown",
      "metadata": {
        "id": "FU7rIf2zpTaU",
        "colab_type": "text"
      },
      "source": [
        "    import numpy as np\n",
        "    import mnist\n",
        "    import keras\n",
        "\n",
        "    # The first time you run this might be a bit slow, since the\n",
        "    # mnist package has to download and cache the data.\n",
        "    train_images = mnist.train_images()\n",
        "    train_labels = mnist.train_labels()\n",
        "\n",
        "    print(train_images.shape) # (60000, 28, 28)\n",
        "    print(train_labels.shape) # (60000,)"
      ]
    },
    {
      "cell_type": "markdown",
      "metadata": {
        "id": "pBDyv_GYpTaU",
        "colab_type": "text"
      },
      "source": [
        "Что в данном случае мы смогли с вами узнать? Что тренировочный датасет mnist состоит из 60000 изображений 28 на 28 пикселей. Такие небольшие датасеты с маленькими изображениями встретятся вам и в других учебных датасетах."
      ]
    },
    {
      "cell_type": "markdown",
      "metadata": {
        "id": "uAw7vWkQpTaV",
        "colab_type": "text"
      },
      "source": [
        "Что нам нужно делать теперь? Если скаченный нами датасет не имеет разделения на тренировочный и тестовый то поделить их. В нашем случае наш тренировочный датасет состоит из 60 000 изображений и тестовый из 10 000 и они поделены по умолчанию.\n",
        "\n",
        "Нам теперь нужно конверитировать значения пикселей из вида от 1 до 255 в набор значений от -0.5 до 0.5.\n",
        "\n"
      ]
    },
    {
      "cell_type": "code",
      "metadata": {
        "id": "GKO7RYIxeIJj",
        "colab_type": "code",
        "colab": {}
      },
      "source": [
        "# !pip install mnist"
      ],
      "execution_count": 0,
      "outputs": []
    },
    {
      "cell_type": "code",
      "metadata": {
        "id": "Ft8i02s8pTaW",
        "colab_type": "code",
        "colab": {
          "base_uri": "https://localhost:8080/",
          "height": 50
        },
        "outputId": "077f7ba0-bcc1-4d39-a11e-6c29e177cf29"
      },
      "source": [
        "import numpy as np\n",
        "import mnist\n",
        "\n",
        "train_images = mnist.train_images()\n",
        "train_labels = mnist.train_labels()\n",
        "test_images = mnist.test_images()\n",
        "test_labels = mnist.test_labels()\n",
        "\n",
        "# Normalize the images.\n",
        "train_images = (train_images / 255) - 0.5\n",
        "test_images = (test_images / 255) - 0.5\n",
        "\n",
        "# Flatten the images.\n",
        "train_images = train_images.reshape((-1, 784))\n",
        "test_images = test_images.reshape((-1, 784))\n",
        "\n",
        "print(train_images.shape) # (60000, 784)\n",
        "print(test_images.shape)  # (10000, 784)"
      ],
      "execution_count": 9,
      "outputs": [
        {
          "output_type": "stream",
          "text": [
            "(60000, 784)\n",
            "(10000, 784)\n"
          ],
          "name": "stdout"
        }
      ]
    },
    {
      "cell_type": "markdown",
      "metadata": {
        "id": "A5dGMWCMpTae",
        "colab_type": "text"
      },
      "source": [
        "**Создание модели**"
      ]
    },
    {
      "cell_type": "markdown",
      "metadata": {
        "id": "29zVwyGSpTaf",
        "colab_type": "text"
      },
      "source": [
        "После первичной подготовки данных дальше как правило следует создание модели нейронной сети, которая будет учиться на этих данных.\n",
        "\n",
        "Ниже типичный код учебной нейросети - "
      ]
    },
    {
      "cell_type": "markdown",
      "metadata": {
        "id": "9CMZnyj_pTag",
        "colab_type": "text"
      },
      "source": [
        "    # define the keras model\n",
        "    model = Sequential()\n",
        "    model.add(Dense(12, input_dim=8, activation='relu'))\n",
        "    model.add(Dense(8, activation='relu'))\n",
        "    model.add(Dense(1, activation='sigmoid'))"
      ]
    },
    {
      "cell_type": "markdown",
      "metadata": {
        "id": "R70ZIExcpTah",
        "colab_type": "text"
      },
      "source": [
        "Давайте разберемся с теми командами, которые нам встетились в этом коде.\n",
        "\n",
        "Sequential - позволяет создать нейросети где слои имеют форму стека. Сигнал в них передается от одного слоя к другому. В противовес этой разновидности есть нейросети где сигнал может не сразу передаваться в следующий слой а попадать в цикл. Такие нейросети мы разберем в следующих уроках.\n",
        "\n",
        "Dense - позволяет каждому нейронну быть связанному с другим нейронном. В противовес этом может быть необходимость не делать так много связей. Неполносвязнные архитектуры мы также разберем на этом курсе, они основа компьютерного зрения.\n",
        "\n",
        "Цифры 12, 8, 1 обозначают количество нейронов в каждом конкретном слое\n",
        "\n",
        "Activation - позволяет определить формулу по которой будет активироваться нейрон."
      ]
    },
    {
      "cell_type": "markdown",
      "metadata": {
        "id": "BlT1GZafpTai",
        "colab_type": "text"
      },
      "source": [
        "**Компиляция модели**\n",
        "\n",
        "На этапе компиляции модель с заданными параметрами ранее создается. Вот типичный учебный пример:"
      ]
    },
    {
      "cell_type": "markdown",
      "metadata": {
        "id": "OfJT4wiCpTaj",
        "colab_type": "text"
      },
      "source": [
        "    \n",
        "    # создание keras модели\n",
        "    model.compile(loss='binary_crossentropy', optimizer='adam', metrics=['accuracy'])"
      ]
    },
    {
      "cell_type": "markdown",
      "metadata": {
        "id": "TCuIc_HGpTaj",
        "colab_type": "text"
      },
      "source": [
        "Однако на этой стадии мы должны сделать еще некоторые настройки нейронной сети. Разберем команды из кода выше.\n",
        "\n",
        "loss - позволяет задать формулы по которой будет определяться степень ошибки нейронной сети.\n",
        "\n",
        "optimizer - позволяет задать алгоритм, который будет осуществлять изменения весов по всей нейронной сети (backpropagation)\n",
        "\n",
        "metrics - позволяет опредилить кретирии по которым будет оцениваться степень обученности нейросети.\n",
        "    \n",
        "    "
      ]
    },
    {
      "cell_type": "markdown",
      "metadata": {
        "id": "TT1jfUcmpTak",
        "colab_type": "text"
      },
      "source": [
        "**Передача данных для обучения нейросети**\n",
        "\n",
        "После того как нейросеть создана можно передавать ей данные для обучения. Ниже типичный пример кода для этого.\n"
      ]
    },
    {
      "cell_type": "markdown",
      "metadata": {
        "id": "PtgGrBT8pTal",
        "colab_type": "text"
      },
      "source": [
        "    # передача обучающего датасета keras модели\n",
        "    model.fit(X, y, epochs=150, batch_size=10, verbose=0)"
      ]
    },
    {
      "cell_type": "markdown",
      "metadata": {
        "id": "fUvHGVK5pTam",
        "colab_type": "text"
      },
      "source": [
        "Разберем команды из этого примера.\n",
        "X, y - содержат все обучающие данные\n",
        "epochs - определяет сколько раз через нейросеть должен пройти весь набор данных\n",
        "bath_size - определяет количество обучающих примеров передающихся нейросети на каждой итерации обучения.\n",
        "verbose - позволяет определять информацию, котору вы видете во время обучения нейронной сети."
      ]
    },
    {
      "cell_type": "markdown",
      "metadata": {
        "id": "LngkMQgTpTan",
        "colab_type": "text"
      },
      "source": [
        "**Оценка обученности нейронной сети**\n",
        "\n",
        "Следующей стадией может быть проверка обученности нейронной сети. Команда Keras для этих целей - \n",
        "\n",
        "    results = model.evaluate(x_test, y_test, batch_size=128)\n",
        "    \n",
        "В данном случае мы просто указываем какую модель на каких данных мы хотим проверить"
      ]
    },
    {
      "cell_type": "markdown",
      "metadata": {
        "id": "_8RS4iG8pTao",
        "colab_type": "text"
      },
      "source": [
        "**Запуск нейронной сети для выполнения работы**\n",
        "\n",
        "На этой стадии мы можем попробовать запустить нейронную сеть на данных которые мы хотели бы чтобы она оценила. Осуществить распознования объекта на фотографии например.\n",
        "Вот код для этих целей - \n",
        "\n",
        "    predictions = model.predict(x_test[:3])\n",
        "    \n",
        "В качестве аргумента здесь указывается массив даныхх содержащих, например фотографию в виде массива чисел.    \n",
        "    "
      ]
    },
    {
      "cell_type": "markdown",
      "metadata": {
        "id": "JqpE6uRGpTap",
        "colab_type": "text"
      },
      "source": [
        "Мы с вами рассмотрели основные стадии процесса обучения нейросети и команды Keras, для этого. Безусловно здесь приведен далеко неполный перечень возможностей Keras. У Keras есть также возможность сохранять созданную нейросеть, запускать уже имеющиюся, различные средства для создания нейросетей разных архитектур и другое. С чем то из арсенала Keras мы с вами познакомимся по ходу курса, а с остальным вы можете познакомиться на сайте Keras в разделе документация."
      ]
    },
    {
      "cell_type": "markdown",
      "metadata": {
        "id": "OE52slzlpTaq",
        "colab_type": "text"
      },
      "source": [
        "## Простая нейросеть на Keras"
      ]
    },
    {
      "cell_type": "markdown",
      "metadata": {
        "id": "1Ss9f7FbpTar",
        "colab_type": "text"
      },
      "source": [
        "Давайте попрубуем сделать нейросеть на Keras использую полученные выше знания. Попробуем обучить нейросеть различать рукописные цифры."
      ]
    },
    {
      "cell_type": "code",
      "metadata": {
        "id": "IOLovuA_pTas",
        "colab_type": "code",
        "colab": {
          "base_uri": "https://localhost:8080/",
          "height": 569
        },
        "outputId": "e8dfbc2b-376e-4cc9-da3b-b13dc08192a9"
      },
      "source": [
        "# The full neural network code!\n",
        "###############################\n",
        "import numpy as np\n",
        "import mnist\n",
        "from keras.models import Sequential\n",
        "from keras.layers import Dense\n",
        "from keras.utils import to_categorical\n",
        "\n",
        "train_images = mnist.train_images()\n",
        "train_labels = mnist.train_labels()\n",
        "test_images = mnist.test_images()\n",
        "test_labels = mnist.test_labels()\n",
        "\n",
        "# Normalize the images.\n",
        "train_images = (train_images / 255) - 0.5\n",
        "test_images = (test_images / 255) - 0.5\n",
        "\n",
        "# Flatten the images.\n",
        "train_images = train_images.reshape((-1, 784))\n",
        "test_images = test_images.reshape((-1, 784))\n",
        "\n",
        "# Build the model.\n",
        "model = Sequential([\n",
        "  Dense(64, activation='relu', input_shape=(784,)),\n",
        "  Dense(64, activation='relu'),\n",
        "  Dense(64, activation='relu'),\n",
        "  Dense(10, activation='softmax'),\n",
        "])\n",
        "\n",
        "# Compile the model.\n",
        "model.compile(\n",
        "  optimizer='adam',\n",
        "  loss='categorical_crossentropy',\n",
        "  metrics=['accuracy'],\n",
        ")\n",
        "\n",
        "# Train the model.\n",
        "model.fit(\n",
        "  train_images,\n",
        "  to_categorical(train_labels),\n",
        "  epochs=15,\n",
        "  batch_size=128,\n",
        ")\n",
        "\n",
        "# Evaluate the model.\n",
        "model.evaluate(\n",
        "  test_images,\n",
        "  to_categorical(test_labels)\n",
        ")\n",
        "\n",
        "# Save the model to disk.\n",
        "model.save_weights('model.h5')\n",
        "\n",
        "# Load the model from disk later using:\n",
        "# model.load_weights('model.h5')\n",
        "\n",
        "# Predict on the first 5 test images.\n",
        "predictions = model.predict(test_images[:5])\n",
        "\n",
        "# Print our model's predictions.\n",
        "print(np.argmax(predictions, axis=1)) # [7, 2, 1, 0, 4]\n",
        "\n",
        "# Check our predictions against the ground truths.\n",
        "print(test_labels[:5]) # [7, 2, 1, 0, 4]"
      ],
      "execution_count": 42,
      "outputs": [
        {
          "output_type": "stream",
          "text": [
            "Epoch 1/15\n",
            "60000/60000 [==============================] - 2s 26us/step - loss: 0.4562 - accuracy: 0.8629\n",
            "Epoch 2/15\n",
            "60000/60000 [==============================] - 2s 26us/step - loss: 0.2147 - accuracy: 0.9352\n",
            "Epoch 3/15\n",
            "60000/60000 [==============================] - 2s 27us/step - loss: 0.1681 - accuracy: 0.9485\n",
            "Epoch 4/15\n",
            "60000/60000 [==============================] - 2s 26us/step - loss: 0.1396 - accuracy: 0.9573\n",
            "Epoch 5/15\n",
            "60000/60000 [==============================] - 2s 27us/step - loss: 0.1196 - accuracy: 0.9629\n",
            "Epoch 6/15\n",
            "60000/60000 [==============================] - 2s 26us/step - loss: 0.1063 - accuracy: 0.9665\n",
            "Epoch 7/15\n",
            "60000/60000 [==============================] - 2s 26us/step - loss: 0.0955 - accuracy: 0.9699\n",
            "Epoch 8/15\n",
            "60000/60000 [==============================] - 2s 25us/step - loss: 0.0877 - accuracy: 0.9727\n",
            "Epoch 9/15\n",
            "60000/60000 [==============================] - 2s 26us/step - loss: 0.0791 - accuracy: 0.9745\n",
            "Epoch 10/15\n",
            "60000/60000 [==============================] - 2s 26us/step - loss: 0.0754 - accuracy: 0.9764\n",
            "Epoch 11/15\n",
            "60000/60000 [==============================] - 2s 26us/step - loss: 0.0691 - accuracy: 0.9782\n",
            "Epoch 12/15\n",
            "60000/60000 [==============================] - 2s 26us/step - loss: 0.0641 - accuracy: 0.9789\n",
            "Epoch 13/15\n",
            "60000/60000 [==============================] - 2s 26us/step - loss: 0.0594 - accuracy: 0.9813\n",
            "Epoch 14/15\n",
            "60000/60000 [==============================] - 2s 26us/step - loss: 0.0535 - accuracy: 0.9828\n",
            "Epoch 15/15\n",
            "60000/60000 [==============================] - 2s 26us/step - loss: 0.0520 - accuracy: 0.9828\n",
            "10000/10000 [==============================] - 0s 26us/step\n",
            "[7 2 1 0 4]\n",
            "[7 2 1 0 4]\n"
          ],
          "name": "stdout"
        }
      ]
    },
    {
      "cell_type": "code",
      "metadata": {
        "id": "SiGIiOWzte2j",
        "colab_type": "code",
        "colab": {}
      },
      "source": [
        "# from sklearn.model_selection import GridSearchCV"
      ],
      "execution_count": 0,
      "outputs": []
    },
    {
      "cell_type": "code",
      "metadata": {
        "id": "VagLjEFMvQu0",
        "colab_type": "code",
        "colab": {}
      },
      "source": [
        "# grid = {'activation':['elu', 'relu', 'softmax', 'softplus', 'tanh', 'sigmoid', 'hard_sigmoid'],\n",
        "#         'optimizer':['SGD', 'RMSprop', 'Adagrad', 'Adam'],\n",
        "#         'epoch':[5,7,9,11],\n",
        "#         'batch_size':[32, 64, 128],\n",
        "#         'metrics':'accuracy'}"
      ],
      "execution_count": 0,
      "outputs": []
    },
    {
      "cell_type": "markdown",
      "metadata": {
        "id": "Pu48GLFTpyGw",
        "colab_type": "text"
      },
      "source": [
        "- базовая настройка = loss: 0.1000 - accuracy: 0.9683\n",
        "- батч сайз 64 = loss: 0.1235 - accuracy: 0.9621\n",
        "- батч сайз 64 на 10 эпохах = loss: 0.0693 - accuracy: 0.9773\n",
        "- предыдущие настройки + входной и срадний слои с активацией 'elu' = loss: 0.0521 - accuracy: 0.9827\n",
        "- добавление доп слоя = loss: 0.0490 - accuracy: 0.9840\n",
        "\n",
        "# Вывод:\n",
        "  Я указал не все параметры которые меня, а только те которые дали прирост, и, на донный момент функция relu в входном и промежуточных слоях, а так же softmax в выходном дают лучший результат. В идеале - надо пробовать перебор через gridsearch, т.к. вручную можно перебирать до бесконечности, но я не догадался как его правильно встроить, пока."
      ]
    }
  ]
}